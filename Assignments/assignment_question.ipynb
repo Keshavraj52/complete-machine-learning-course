{
 "cells": [
  {
   "cell_type": "markdown",
   "metadata": {},
   "source": [
    "# Lesson 1.2: Python Basics\n",
    "## Topics Covered:\n",
    "- Syntax and Semantics\n",
    "- Variables and Data Types\n",
    "- Basic Operators (Arithmetic, Comparison, Logical)\n"
   ]
  },
  {
   "cell_type": "markdown",
   "metadata": {},
   "source": [
    "## 1. Syntax and Semantics\n",
    "\n",
    "**Question 1:** Write a Python program to print \"Hello, World!\"."
   ]
  },
  {
   "cell_type": "code",
   "execution_count": 1,
   "metadata": {},
   "outputs": [
    {
     "name": "stdout",
     "output_type": "stream",
     "text": [
      "hello world\n"
     ]
    }
   ],
   "source": [
    "# Your code here\n",
    "print (\"hello world\")"
   ]
  },
  {
   "cell_type": "markdown",
   "metadata": {},
   "source": [
    "**Question 2:** Write a Python program that takes a user input and prints it."
   ]
  },
  {
   "cell_type": "code",
   "execution_count": 2,
   "metadata": {},
   "outputs": [
    {
     "name": "stdout",
     "output_type": "stream",
     "text": [
      "keshavraj pore\n"
     ]
    }
   ],
   "source": [
    "# Your code here\n",
    "user=input(\"enter any input\")\n",
    "print(user)"
   ]
  },
  {
   "cell_type": "markdown",
   "metadata": {},
   "source": [
    "**Question 3:** Write a Python program to check if a number is positive, negative, or zero."
   ]
  },
  {
   "cell_type": "code",
   "execution_count": 5,
   "metadata": {},
   "outputs": [
    {
     "name": "stdout",
     "output_type": "stream",
     "text": [
      "numer is zero\n"
     ]
    }
   ],
   "source": [
    "# Your code here\n",
    "a=int(input(\"enter a number\"))\n",
    "if a>0:\n",
    "    print(\"the given number is positive\")\n",
    "elif a<0:\n",
    "    print(\"the given number is negeative\")\n",
    "else:\n",
    "    print(\"numer is zero\")"
   ]
  },
  {
   "cell_type": "markdown",
   "metadata": {},
   "source": [
    "**Question 4:** Write a Python program to find the largest of three numbers."
   ]
  },
  {
   "cell_type": "code",
   "execution_count": 7,
   "metadata": {},
   "outputs": [
    {
     "name": "stdout",
     "output_type": "stream",
     "text": [
      "58 is the greater no\n"
     ]
    }
   ],
   "source": [
    "# Your code here\n",
    "a=int(input(\"enter first number\"))\n",
    "b=int(input(\"enter second number\"))\n",
    "c=int(input(\"enter third number\"))\n",
    "if a>b:\n",
    "    if a>c:\n",
    "        print(a,\"is the greater no\")\n",
    "    else:\n",
    "        print(c,\"is the greater no\")\n",
    "elif b>a:\n",
    "    if b>c:\n",
    "        print(b,\"is the greater no\")\n",
    "    else:\n",
    "        print(c,\"is the greater no\")\n"
   ]
  },
  {
   "cell_type": "markdown",
   "metadata": {},
   "source": [
    "**Question 5:** Write a Python program to calculate the factorial of a number."
   ]
  },
  {
   "cell_type": "code",
   "execution_count": 8,
   "metadata": {},
   "outputs": [
    {
     "name": "stdout",
     "output_type": "stream",
     "text": [
      "120\n"
     ]
    }
   ],
   "source": [
    "# Your code here\n",
    "fact=int(input(\"enter a no\"))\n",
    "result=1\n",
    "for i in range(1,fact+1):\n",
    "    result *=i\n",
    "print(result)\n",
    "    \n"
   ]
  },
  {
   "cell_type": "markdown",
   "metadata": {},
   "source": [
    "## 2. Variables and Data Types\n",
    "\n",
    "**Question 6:** Create variables of different data types: integer, float, string, and boolean. Print their values and types."
   ]
  },
  {
   "cell_type": "code",
   "execution_count": 7,
   "metadata": {},
   "outputs": [
    {
     "name": "stdout",
     "output_type": "stream",
     "text": [
      "453 <class 'int'>\n",
      "4.53 <class 'float'>\n",
      "keshavraj <class 'str'>\n",
      "True <class 'bool'>\n"
     ]
    }
   ],
   "source": [
    "# Your code here\n",
    "integer=453\n",
    "floatable=4.53\n",
    "string=\"keshavraj\"\n",
    "boolean=True\n",
    "print(integer,type(integer))\n",
    "print(floatable,type(floatable))\n",
    "print(string,type(string))\n",
    "print(boolean,type(boolean))"
   ]
  },
  {
   "cell_type": "markdown",
   "metadata": {},
   "source": [
    "**Question 7:** Write a Python program to swap the values of two variables."
   ]
  },
  {
   "cell_type": "code",
   "execution_count": 2,
   "metadata": {},
   "outputs": [
    {
     "name": "stdout",
     "output_type": "stream",
     "text": [
      "before swapping: a: 10 b: 12\n",
      "after swaping: a: 12 b: 10\n"
     ]
    }
   ],
   "source": [
    "# Your code here\n",
    "a=10\n",
    "b=12\n",
    "print(\"before swapping:\",\"a:\",a,\"b:\",b)\n",
    "temp=a\n",
    "a=b\n",
    "b=temp\n",
    "print(\"after swaping:\",\"a:\",a,\"b:\",b)"
   ]
  },
  {
   "cell_type": "markdown",
   "metadata": {},
   "source": [
    "**Question 8:** Write a Python program to convert Celsius to Fahrenheit."
   ]
  },
  {
   "cell_type": "code",
   "execution_count": 1,
   "metadata": {},
   "outputs": [
    {
     "name": "stdout",
     "output_type": "stream",
     "text": [
      "fahreheit: 95.396\n"
     ]
    }
   ],
   "source": [
    "celsius=float(input(\"enter celsius:\"))\n",
    "fahreheit=(celsius *9/5)+32\n",
    "print(\"fahreheit:\",fahreheit)"
   ]
  },
  {
   "cell_type": "markdown",
   "metadata": {},
   "source": [
    "**Question 9:** Write a Python program to concatenate two strings."
   ]
  },
  {
   "cell_type": "code",
   "execution_count": 2,
   "metadata": {},
   "outputs": [
    {
     "name": "stdout",
     "output_type": "stream",
     "text": [
      "i am keshavraj\n"
     ]
    }
   ],
   "source": [
    "# Your code here\n",
    "string1=input(\"enter a half statement:\")\n",
    "string2=input(\"enter another half statement:\")\n",
    "print(string1+string2)"
   ]
  },
  {
   "cell_type": "markdown",
   "metadata": {},
   "source": [
    "**Question 10:** Write a Python program to check if a variable is of a specific data type."
   ]
  },
  {
   "cell_type": "code",
   "execution_count": 10,
   "metadata": {},
   "outputs": [
    {
     "name": "stdout",
     "output_type": "stream",
     "text": [
      "Is var1 an int? True\n",
      "Is var2 a str? True\n",
      "Is var3 a float? True\n",
      "Is var4 a list? True\n",
      "True\n"
     ]
    }
   ],
   "source": [
    "# Your code here\n",
    "# Function to check if a variable is of a specific data type\n",
    "def check_data_type(variable, data_type):\n",
    "    return isinstance(variable, data_type)\n",
    "\n",
    "# Example usage\n",
    "var1 = 42\n",
    "var2 = \"Hello\"\n",
    "var3 = 3.14\n",
    "var4 = [1, 2, 3]\n",
    "\n",
    "print(\"Is var1 an int?\", check_data_type(var1, int))\n",
    "print(\"Is var2 a str?\", check_data_type(var2, str))\n",
    "print(\"Is var3 a float?\", check_data_type(var3, float))\n",
    "print(\"Is var4 a list?\", check_data_type(var4, list))\n",
    "print(check_data_type(var3,float))\n"
   ]
  },
  {
   "cell_type": "markdown",
   "metadata": {},
   "source": [
    "## 3. Basic Operators (Arithmetic, Comparison, Logical)\n",
    "\n",
    "**Question 11:** Write a Python program to perform arithmetic operations: addition, subtraction, multiplication, and division."
   ]
  },
  {
   "cell_type": "code",
   "execution_count": 11,
   "metadata": {},
   "outputs": [
    {
     "name": "stdout",
     "output_type": "stream",
     "text": [
      "addition: 20 substraction: 10 multiplication: 75 division: 3.0\n"
     ]
    }
   ],
   "source": [
    "# Your code \n",
    "input1=int(input(\"enter a first number:\"))\n",
    "input2=int(input(\"enter a second number:\"))\n",
    "add=input1+input2\n",
    "sub=input1-input2\n",
    "multi=input1*input2\n",
    "div=input1/input2\n",
    "print(\"addition:\",add,\"substraction:\",sub,\"multiplication:\",multi,\"division:\",div)\n"
   ]
  },
  {
   "cell_type": "markdown",
   "metadata": {},
   "source": [
    "**Question 12:** Write a Python program to demonstrate comparison operators: equal to, not equal to, greater than, less than."
   ]
  },
  {
   "cell_type": "code",
   "execution_count": 27,
   "metadata": {},
   "outputs": [
    {
     "name": "stdout",
     "output_type": "stream",
     "text": [
      "False\n",
      "True\n",
      "True\n",
      "False\n"
     ]
    }
   ],
   "source": [
    "# Your code here\n",
    "a=23\n",
    "b=14\n",
    "print(a==b)\n",
    "print(a != b)\n",
    "print(a >= b)\n",
    "print(a <= b)"
   ]
  },
  {
   "cell_type": "markdown",
   "metadata": {},
   "source": [
    "**Question 13:** Write a Python program to demonstrate logical operators: and, or, not."
   ]
  },
  {
   "cell_type": "code",
   "execution_count": 28,
   "metadata": {},
   "outputs": [
    {
     "name": "stdout",
     "output_type": "stream",
     "text": [
      "False True False True False\n"
     ]
    }
   ],
   "source": [
    "# Your code here\n",
    "x=True\n",
    "y=False\n",
    "andgate= x and y #false\n",
    "orgate= x or y #true\n",
    "notgate= not x#false\n",
    "xorgate=(x and not y)or(not x or y)#true\n",
    "xandgate=(x or not y)and(not x or y)#false\n",
    "print(andgate,orgate,notgate,xorgate,xandgate)"
   ]
  },
  {
   "cell_type": "markdown",
   "metadata": {},
   "source": [
    "**Question 14:** Write a Python program to calculate the square of a number."
   ]
  },
  {
   "cell_type": "code",
   "execution_count": 30,
   "metadata": {},
   "outputs": [
    {
     "name": "stdout",
     "output_type": "stream",
     "text": [
      "4\n"
     ]
    }
   ],
   "source": [
    "# Your code here\n",
    "v=int(input(\"enter any number:\"))\n",
    "z=v**v\n",
    "print(z)"
   ]
  },
  {
   "cell_type": "markdown",
   "metadata": {},
   "source": [
    "**Question 15:** Write a Python program to check if a number is even or odd."
   ]
  },
  {
   "cell_type": "code",
   "execution_count": 2,
   "metadata": {},
   "outputs": [
    {
     "name": "stdout",
     "output_type": "stream",
     "text": [
      "the number is odd.\n"
     ]
    }
   ],
   "source": [
    "# Your code here\n",
    "num=int(input(\"enter a number:\"))\n",
    "if num/2 == True:\n",
    "    print(\"the number is even.\")\n",
    "else:\n",
    "    print(\"the number is odd.\")"
   ]
  },
  {
   "cell_type": "markdown",
   "metadata": {},
   "source": [
    "**Question 16:** Write a Python program to find the sum of the first n natural numbers."
   ]
  },
  {
   "cell_type": "code",
   "execution_count": 6,
   "metadata": {},
   "outputs": [
    {
     "name": "stdout",
     "output_type": "stream",
     "text": [
      "15\n"
     ]
    }
   ],
   "source": [
    "# Your code here\n",
    "no=int(input(\"enter a number\"))\n",
    "result=0\n",
    "for i in range(1,no+1):\n",
    "    result +=i\n",
    "print(result)"
   ]
  },
  {
   "cell_type": "markdown",
   "metadata": {},
   "source": [
    "**Question 17:** Write a Python program to check if a year is a leap year."
   ]
  },
  {
   "cell_type": "code",
   "execution_count": 12,
   "metadata": {},
   "outputs": [
    {
     "name": "stdout",
     "output_type": "stream",
     "text": [
      "year is a leap year.\n"
     ]
    }
   ],
   "source": [
    "# Your code here\n",
    "year=int(input(\"enter a year:\"))\n",
    "if (year % 4 ==0 and year % 100 !=0)or (year % 400 == 0):\n",
    "    print(\"year is a leap year.\")\n",
    "else:\n",
    "    print(\"the year is not a leap year.\")"
   ]
  },
  {
   "cell_type": "markdown",
   "metadata": {},
   "source": [
    "**Question 18:** Write a Python program to reverse a string."
   ]
  },
  {
   "cell_type": "code",
   "execution_count": 13,
   "metadata": {},
   "outputs": [
    {
     "name": "stdout",
     "output_type": "stream",
     "text": [
      "repolved tsetaerg a si jarvahsek\n"
     ]
    }
   ],
   "source": [
    "# Your code here\n",
    "string3=input(\"enter a string\")\n",
    "reversed_str=string3[::-1]\n",
    "print(reversed_str)\n"
   ]
  },
  {
   "cell_type": "markdown",
   "metadata": {},
   "source": [
    "**Question 19:** Write a Python program to check if a string is a palindrome."
   ]
  },
  {
   "cell_type": "code",
   "execution_count": 15,
   "metadata": {},
   "outputs": [
    {
     "name": "stdout",
     "output_type": "stream",
     "text": [
      "the given statement is not a palidrome statement\n"
     ]
    }
   ],
   "source": [
    "# Your code here\n",
    "pali=input(\"enter a string\")\n",
    "if pali==pali[::-1]:\n",
    "    print(\"the given string is a palidrome statement\")\n",
    "else:\n",
    "    print(\"the given statement is not a palidrome statement\")"
   ]
  },
  {
   "cell_type": "markdown",
   "metadata": {},
   "source": [
    "**Question 20:** Write a Python program to sort a list of numbers in ascending order."
   ]
  },
  {
   "cell_type": "code",
   "execution_count": 20,
   "metadata": {},
   "outputs": [
    {
     "name": "stdout",
     "output_type": "stream",
     "text": [
      "[2, 5, 9, 45, 75] is in the asending order. [2, 5, 9, 45, 75]\n"
     ]
    }
   ],
   "source": [
    "# Your code here\n",
    "sortednum=[int(x) for x in input(\"enter a number seperated by space\").split()]\n",
    "sortednum.sort()\n",
    "print(f\"{sortednum} is in the asending order.\",sortednum)\n"
   ]
  },
  {
   "cell_type": "code",
   "execution_count": 19,
   "metadata": {},
   "outputs": [
    {
     "name": "stdout",
     "output_type": "stream",
     "text": [
      "Sorted list: [5, 9, 25, 48]\n"
     ]
    }
   ],
   "source": [
    "numbers = [int(x) for x in input(\"Enter numbers separated by space: \").split()]\n",
    "numbers.sort()\n",
    "print(f\"Sorted list: {numbers}\")"
   ]
  },
  {
   "cell_type": "code",
   "execution_count": null,
   "metadata": {},
   "outputs": [],
   "source": []
  }
 ],
 "metadata": {
  "kernelspec": {
   "display_name": "Python 3",
   "language": "python",
   "name": "python3"
  },
  "language_info": {
   "codemirror_mode": {
    "name": "ipython",
    "version": 3
   },
   "file_extension": ".py",
   "mimetype": "text/x-python",
   "name": "python",
   "nbconvert_exporter": "python",
   "pygments_lexer": "ipython3",
   "version": "3.12.0"
  }
 },
 "nbformat": 4,
 "nbformat_minor": 4
}
