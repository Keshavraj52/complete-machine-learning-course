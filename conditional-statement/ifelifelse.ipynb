{
 "cells": [
  {
   "cell_type": "code",
   "execution_count": 7,
   "metadata": {},
   "outputs": [
    {
     "name": "stdout",
     "output_type": "stream",
     "text": [
      "hay,please book your voting card online on the goverment portal\n"
     ]
    }
   ],
   "source": [
    "age =int (input(\"enter your age:\"))\n",
    "votecard=int(input(\"hay you have voting card say 1 and if you dont have say 0:\"))\n",
    "if age >=18:\n",
    "    if votecard==1:\n",
    "        print(\"hay, you are allowed to vote.\")\n",
    "    else:\n",
    "        print(\"hay,please book your voting card online on the goverment portal\")\n",
    "\n",
    "else:\n",
    "    print(\"hay, you are not allowed to vote\")\n"
   ]
  },
  {
   "cell_type": "code",
   "execution_count": 9,
   "metadata": {},
   "outputs": [
    {
     "name": "stdout",
     "output_type": "stream",
     "text": [
      "you are a adult.\n"
     ]
    }
   ],
   "source": [
    "#elif statement\n",
    "# it allow to check multiple statement\n",
    "\n",
    "if age<=13:\n",
    "    print (\"hey you are a child.\")\n",
    "elif age<=18:\n",
    "    print(\"hey you are a teenager.\")\n",
    "else:\n",
    "    print(\"you are a adult.\")"
   ]
  },
  {
   "cell_type": "code",
   "execution_count": 12,
   "metadata": {},
   "outputs": [
    {
     "name": "stdout",
     "output_type": "stream",
     "text": [
      "the number is positive.\n",
      "the number is odd number\n"
     ]
    }
   ],
   "source": [
    "#nested conditional statement\n",
    "num = int(input(\"enter a any number:\"))\n",
    "\n",
    "if num<0:\n",
    "    print(\"the number is negetive.\")\n",
    "elif num>=0:\n",
    "    print(\"the number is positive.\")\n",
    "    if num % 2==0:\n",
    "        print(\"the number is even number.\")\n",
    "    else:\n",
    "        print(\"the number is odd number\")"
   ]
  },
  {
   "cell_type": "code",
   "execution_count": 19,
   "metadata": {},
   "outputs": [
    {
     "name": "stdout",
     "output_type": "stream",
     "text": [
      "2003 is not a leap year.\n"
     ]
    }
   ],
   "source": [
    "year=int(input(\"enter any number:\"))\n",
    "\n",
    "if year % 4==0:\n",
    "    if year%100==0:\n",
    "        if year%400==0:\n",
    "            print(f\"{year}the number is a leap year.\")\n",
    "\n",
    "    else:\n",
    "        print(f\"{year} the number is a leap year.\")\n",
    "else:\n",
    "    print(f\"{year} is not a leap year.\")"
   ]
  },
  {
   "cell_type": "code",
   "execution_count": 26,
   "metadata": {},
   "outputs": [
    {
     "name": "stdout",
     "output_type": "stream",
     "text": [
      "for addition enter 1: \n",
      " for substraction enter 2: \n",
      " for division enter 3: \n",
      " for multiplication enter 4: \n",
      "division of the 25.0 and 35.0 is: 0.7142857142857143\n"
     ]
    }
   ],
   "source": [
    "num1=float(input(\"enter the first number:\"))\n",
    "num2=float(input(\"enter a second number:\"))\n",
    "print(\"for addition enter 1: \\n for substraction enter 2: \\n for division enter 3: \\n for multiplication enter 4: \")\n",
    "\n",
    "choice=int(input(\"enter your choise:\"))\n",
    "\n",
    "\n",
    "if choice==1:\n",
    "    addition=num1+num2\n",
    "    print(f\"addition of {num1} and {num2} is:\",addition)\n",
    "\n",
    "elif choice==2:\n",
    "    substraction=num1-num2\n",
    "    print(f\"substraction of {num1} and {num2} is:\",substraction)\n",
    "\n",
    "elif choice==3:\n",
    "    if num2==0:\n",
    "        print(\"the answer of this equation is infinity\")\n",
    "    else:\n",
    "        division=num1/num2\n",
    "        print(f\"division of the {num1} and {num2} is:\",division)\n",
    "elif choice==4:\n",
    "    multiplication=num1*num2\n",
    "    print(f\"multiplication of the {num1} and {num2} is:\",multiplication)"
   ]
  },
  {
   "cell_type": "code",
   "execution_count": null,
   "metadata": {},
   "outputs": [],
   "source": []
  }
 ],
 "metadata": {
  "kernelspec": {
   "display_name": "Python 3",
   "language": "python",
   "name": "python3"
  },
  "language_info": {
   "codemirror_mode": {
    "name": "ipython",
    "version": 3
   },
   "file_extension": ".py",
   "mimetype": "text/x-python",
   "name": "python",
   "nbconvert_exporter": "python",
   "pygments_lexer": "ipython3",
   "version": "3.12.0"
  }
 },
 "nbformat": 4,
 "nbformat_minor": 2
}
