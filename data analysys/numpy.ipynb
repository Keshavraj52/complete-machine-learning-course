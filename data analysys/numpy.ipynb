{
 "cells": [
  {
   "cell_type": "code",
   "execution_count": 1,
   "metadata": {},
   "outputs": [
    {
     "name": "stdout",
     "output_type": "stream",
     "text": [
      "Requirement already satisfied: numpy in c:\\users\\keshavraj\\desktop\\complete machine learning course\\venv\\lib\\site-packages (2.0.1)\n"
     ]
    }
   ],
   "source": [
    "!pip install numpy"
   ]
  },
  {
   "cell_type": "code",
   "execution_count": 2,
   "metadata": {},
   "outputs": [
    {
     "name": "stdout",
     "output_type": "stream",
     "text": [
      "[ 1  2  5  2  5  3 45]\n",
      "<class 'numpy.ndarray'> (7,)\n"
     ]
    }
   ],
   "source": [
    "import numpy as np\n",
    "\n",
    "## create array using numpy\n",
    "## create a 1d array\n",
    "\n",
    "oneDarray=np.array([1,2,5,2,5,3,45])\n",
    "print(oneDarray)\n",
    "print(type(oneDarray),oneDarray.shape)"
   ]
  },
  {
   "cell_type": "code",
   "execution_count": 44,
   "metadata": {},
   "outputs": [
    {
     "name": "stdout",
     "output_type": "stream",
     "text": [
      "(1, 2, 4)\n",
      "(7,)\n"
     ]
    },
    {
     "data": {
      "text/plain": [
       "array([[ 1,  2,  5, 21,  4,  5,  5]])"
      ]
     },
     "execution_count": 44,
     "metadata": {},
     "output_type": "execute_result"
    }
   ],
   "source": [
    "## 2d array\n",
    "oneDarray1=np.array([[[1,2,5,2],[1,4,5,5]]])\n",
    "print(oneDarray1.shape)\n",
    "oneDarray1.reshape(1,2,4)\n",
    "oneDarray2=np.array([1,2,5,21,4,5,5])\n",
    "print(oneDarray2.shape)\n",
    "oneDarray2.reshape(1,7)## 1 row and 5 columns\n"
   ]
  },
  {
   "cell_type": "code",
   "execution_count": 51,
   "metadata": {},
   "outputs": [
    {
     "data": {
      "text/plain": [
       "array([[[[1, 2, 5, 2],\n",
       "         [1, 4, 5, 5]]]])"
      ]
     },
     "execution_count": 51,
     "metadata": {},
     "output_type": "execute_result"
    }
   ],
   "source": [
    "oneDarray1=np.array([[[[[[[[[1,2,5,2],[1,4,5,5]]]]]]]]])\n",
    "oneDarray1.shape\n",
    "oneDarray1.reshape(1,1,2,4)\n"
   ]
  },
  {
   "cell_type": "code",
   "execution_count": 61,
   "metadata": {},
   "outputs": [
    {
     "data": {
      "text/plain": [
       "array([[0],\n",
       "       [2],\n",
       "       [4],\n",
       "       [6],\n",
       "       [8]])"
      ]
     },
     "execution_count": 61,
     "metadata": {},
     "output_type": "execute_result"
    }
   ],
   "source": [
    "np.arange(0,10,2).reshape(5,1)"
   ]
  },
  {
   "cell_type": "code",
   "execution_count": 63,
   "metadata": {},
   "outputs": [
    {
     "data": {
      "text/plain": [
       "array([[1., 1., 1., 1.],\n",
       "       [1., 1., 1., 1.],\n",
       "       [1., 1., 1., 1.]])"
      ]
     },
     "execution_count": 63,
     "metadata": {},
     "output_type": "execute_result"
    }
   ],
   "source": [
    "np.ones((3,4))"
   ]
  },
  {
   "cell_type": "code",
   "execution_count": 64,
   "metadata": {},
   "outputs": [
    {
     "data": {
      "text/plain": [
       "array([[1., 0., 0., 0.],\n",
       "       [0., 1., 0., 0.],\n",
       "       [0., 0., 1., 0.],\n",
       "       [0., 0., 0., 1.]])"
      ]
     },
     "execution_count": 64,
     "metadata": {},
     "output_type": "execute_result"
    }
   ],
   "source": [
    "## identity matrix\n",
    "\n",
    "np.eye(4)"
   ]
  },
  {
   "cell_type": "code",
   "execution_count": 4,
   "metadata": {},
   "outputs": [
    {
     "name": "stdout",
     "output_type": "stream",
     "text": [
      "addition: [ 2  4  6  8 12]\n",
      "sub: [0 0 0 0 0]\n",
      "mul: [ 1  4  9 16 36]\n",
      "div: [1. 1. 1. 1. 1.]\n"
     ]
    }
   ],
   "source": [
    "## numpy vectorized operation\n",
    "\n",
    "arr1 = np.array([1,2,3,4,6])\n",
    "arr2 = np.array([1,2,3,4,6])\n",
    "print(\"addition:\",arr1+arr2)\n",
    "print(\"sub:\",arr1-arr2)\n",
    "print(\"mul:\",arr1*arr2)\n",
    "print(\"div:\",arr1/arr2)"
   ]
  },
  {
   "cell_type": "code",
   "execution_count": 3,
   "metadata": {},
   "outputs": [
    {
     "name": "stdout",
     "output_type": "stream",
     "text": [
      "[1.41421356 1.73205081 2.         2.23606798 2.44948974 2.64575131]\n",
      "[   7.3890561    20.08553692   54.59815003  148.4131591   403.42879349\n",
      " 1096.63315843]\n",
      "[ 0.90929743  0.14112001 -0.7568025  -0.95892427 -0.2794155   0.6569866 ]\n"
     ]
    }
   ],
   "source": [
    "## univercial function\n",
    "\n",
    "arr=np.array([2,3,4,5,6,7])\n",
    "print(np.sqrt(arr))\n",
    "print(np.exp(arr))\n",
    "print(np.sin(arr))"
   ]
  },
  {
   "cell_type": "code",
   "execution_count": 7,
   "metadata": {},
   "outputs": [
    {
     "name": "stdout",
     "output_type": "stream",
     "text": [
      "52\n"
     ]
    }
   ],
   "source": [
    "array1=np.array([[12,25,36],[45,7,18],[17,33,52]])\n",
    "print(array1[2,2])"
   ]
  },
  {
   "cell_type": "code",
   "execution_count": 34,
   "metadata": {},
   "outputs": [
    {
     "name": "stdout",
     "output_type": "stream",
     "text": [
      "array: \n",
      " [[12 25 36]\n",
      " [45  7 18]\n",
      " [17 33 52]\n",
      " [17 33 52]]\n"
     ]
    }
   ],
   "source": [
    "## array slicing and indexing\n",
    "array21=np.array([[12,25,36],[45,7,18],[17,33,52],[17,33,52]])\n",
    "\n",
    "print(\"array: \\n\",array21)\n",
    "\n"
   ]
  },
  {
   "cell_type": "code",
   "execution_count": 41,
   "metadata": {},
   "outputs": [
    {
     "name": "stdout",
     "output_type": "stream",
     "text": [
      "[[18]\n",
      " [52]\n",
      " [52]]\n",
      "[[ 7]\n",
      " [33]\n",
      " [33]]\n",
      "[[52]\n",
      " [52]]\n"
     ]
    }
   ],
   "source": [
    "array21[1][0]\n",
    "print(array21[1:,2:])\n",
    "print(array21[1:,1:2])\n",
    "print(array21[2:,2:3])"
   ]
  },
  {
   "cell_type": "code",
   "execution_count": null,
   "metadata": {},
   "outputs": [],
   "source": [
    " "
   ]
  }
 ],
 "metadata": {
  "kernelspec": {
   "display_name": "venv",
   "language": "python",
   "name": "python3"
  },
  "language_info": {
   "codemirror_mode": {
    "name": "ipython",
    "version": 3
   },
   "file_extension": ".py",
   "mimetype": "text/x-python",
   "name": "python",
   "nbconvert_exporter": "python",
   "pygments_lexer": "ipython3",
   "version": "3.12.0"
  }
 },
 "nbformat": 4,
 "nbformat_minor": 2
}
