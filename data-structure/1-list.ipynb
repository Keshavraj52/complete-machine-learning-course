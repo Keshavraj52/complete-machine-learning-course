{
 "cells": [
  {
   "cell_type": "code",
   "execution_count": 2,
   "metadata": {},
   "outputs": [
    {
     "name": "stdout",
     "output_type": "stream",
     "text": [
      "[453, 4.53, 'keshavraj', True]\n",
      "keshavraj\n"
     ]
    }
   ],
   "source": [
    "lst=[453,4.53,\"keshavraj\",True]\n",
    "print(lst)\n",
    "print(lst[2])"
   ]
  },
  {
   "cell_type": "code",
   "execution_count": 3,
   "metadata": {},
   "outputs": [
    {
     "name": "stdout",
     "output_type": "stream",
     "text": [
      "[453, 4.53, 'keshavraj', 'pore', 'banana', 'apple']\n"
     ]
    }
   ],
   "source": [
    "#modification of list\n",
    "lst1=[453,4.53,\"keshavraj\",True,\"banana\",\"apple\"]\n",
    "lst1[3]=\"pore\"\n",
    "print(lst1)"
   ]
  },
  {
   "cell_type": "code",
   "execution_count": 4,
   "metadata": {},
   "outputs": [
    {
     "name": "stdout",
     "output_type": "stream",
     "text": [
      "[453, 4.53, 'keshavraj', 'pore', 'banana', 'apple', 'orenge']\n"
     ]
    }
   ],
   "source": [
    "#list methods\n",
    "\n",
    "lst1.append(\"orenge\")\n",
    "print(lst1)"
   ]
  },
  {
   "cell_type": "code",
   "execution_count": 5,
   "metadata": {},
   "outputs": [
    {
     "name": "stdout",
     "output_type": "stream",
     "text": [
      "[453, '534', 4.53, 'keshavraj', 'pore', 'banana', 'apple', 'orenge']\n"
     ]
    }
   ],
   "source": [
    "lst1.insert(1,\"534\")\n",
    "print(lst1)"
   ]
  },
  {
   "cell_type": "code",
   "execution_count": 6,
   "metadata": {},
   "outputs": [
    {
     "name": "stdout",
     "output_type": "stream",
     "text": [
      "[453, '534', 4.53, 'keshavraj', 'pore', 'banana', 'apple', 'orenge', 'keshavraj']\n"
     ]
    }
   ],
   "source": [
    "lst1.append(\"keshavraj\")\n",
    "print(lst1)"
   ]
  },
  {
   "cell_type": "code",
   "execution_count": 7,
   "metadata": {},
   "outputs": [
    {
     "name": "stdout",
     "output_type": "stream",
     "text": [
      "[453, '534', 4.53, 'pore', 'banana', 'apple', 'orenge', 'keshavraj']\n"
     ]
    }
   ],
   "source": [
    "lst1.remove(\"keshavraj\")#it is just removing the first occurence of an item\n",
    "print(lst1)"
   ]
  },
  {
   "cell_type": "code",
   "execution_count": 8,
   "metadata": {},
   "outputs": [
    {
     "name": "stdout",
     "output_type": "stream",
     "text": [
      "keshavraj\n",
      "[453, '534', 4.53, 'pore', 'banana', 'apple', 'orenge']\n"
     ]
    }
   ],
   "source": [
    "# i want to remove an return in the last\n",
    "popped_lst=lst1.pop()\n",
    "print(popped_lst)\n",
    "print(lst1)"
   ]
  },
  {
   "cell_type": "code",
   "execution_count": 9,
   "metadata": {},
   "outputs": [],
   "source": [
    "lst1.append(\"keshavraj\")"
   ]
  },
  {
   "cell_type": "code",
   "execution_count": 10,
   "metadata": {},
   "outputs": [
    {
     "name": "stdout",
     "output_type": "stream",
     "text": [
      "7\n"
     ]
    }
   ],
   "source": [
    "\n",
    "index=lst1.index(\"keshavraj\")\n",
    "print(index)"
   ]
  },
  {
   "cell_type": "code",
   "execution_count": 12,
   "metadata": {},
   "outputs": [
    {
     "name": "stdout",
     "output_type": "stream",
     "text": [
      "[453, '534', 4.53, 'pore', 'banana', 'apple', 'sakshi', 'keshavraj', 'pore', 'orenge', 'pore', 'keshavraj']\n"
     ]
    }
   ],
   "source": [
    "lst1.insert(7,\"keshavraj\")\n",
    "lst1.insert(8,\"pore\")\n",
    "print(lst1)\n"
   ]
  },
  {
   "cell_type": "code",
   "execution_count": 15,
   "metadata": {},
   "outputs": [
    {
     "name": "stdout",
     "output_type": "stream",
     "text": [
      "['apple', 'banana', 'keshavraj', 'keshavraj', 'orenge', 'pore', 'pore', 'pore', 'sakshi']\n"
     ]
    }
   ],
   "source": [
    "lst1.remove(453)\n",
    "lst1.remove('534')\n",
    "lst1.remove(4.53)\n",
    "lst1.sort()\n",
    "print(lst1)"
   ]
  },
  {
   "cell_type": "code",
   "execution_count": 17,
   "metadata": {},
   "outputs": [
    {
     "name": "stdout",
     "output_type": "stream",
     "text": [
      "['apple', 'banana', 'keshavraj', 'keshavraj', 'orenge', 'pore', 'pore', 'pore', 'sakshi']\n"
     ]
    }
   ],
   "source": [
    "lst1.reverse()\n",
    "print(lst1)"
   ]
  },
  {
   "cell_type": "code",
   "execution_count": 18,
   "metadata": {},
   "outputs": [
    {
     "name": "stdout",
     "output_type": "stream",
     "text": [
      "[]\n"
     ]
    }
   ],
   "source": [
    "lst.clear()\n",
    "print(lst)"
   ]
  },
  {
   "cell_type": "code",
   "execution_count": 21,
   "metadata": {},
   "outputs": [
    {
     "name": "stdout",
     "output_type": "stream",
     "text": [
      "[3, 4, 5]\n",
      "[1, 2, 3, 4, 5]\n",
      "[6, 7, 8, 9, 10]\n",
      "[2, 4, 6, 8, 10]\n",
      "[10, 9, 8, 7, 6, 5, 4, 3, 2, 1]\n",
      "5\n"
     ]
    }
   ],
   "source": [
    "#slicing list\n",
    "numbers=[1,2,3,4,5,6,7,8,9,10]\n",
    "print(numbers[2:5])#345\n",
    "print(numbers[:5])#12345\n",
    "print(numbers[5:])#6to10\n",
    "print(numbers[1::2])#246810\n",
    "print(numbers[::-1])#10987654321\n",
    "print(numbers[4])"
   ]
  },
  {
   "cell_type": "code",
   "execution_count": 22,
   "metadata": {},
   "outputs": [
    {
     "name": "stdout",
     "output_type": "stream",
     "text": [
      "0 1\n",
      "1 2\n",
      "2 3\n",
      "3 4\n",
      "4 5\n",
      "5 6\n",
      "6 7\n",
      "7 8\n",
      "8 9\n",
      "9 10\n"
     ]
    }
   ],
   "source": [
    "for index,number in enumerate(numbers):\n",
    "    print(index,number)\n"
   ]
  },
  {
   "cell_type": "code",
   "execution_count": 23,
   "metadata": {},
   "outputs": [
    {
     "name": "stdout",
     "output_type": "stream",
     "text": [
      "[0, 1, 4, 9, 16, 25, 36, 49, 64, 81]\n"
     ]
    }
   ],
   "source": [
    "#list comprehention\n",
    "lst=[]\n",
    "for x in range(10):\n",
    "    lst.append(x**2)\n",
    "\n",
    "print(lst)"
   ]
  },
  {
   "cell_type": "code",
   "execution_count": 24,
   "metadata": {},
   "outputs": [
    {
     "data": {
      "text/plain": [
       "[0, 1, 4, 9, 16, 25, 36, 49, 64, 81]"
      ]
     },
     "execution_count": 24,
     "metadata": {},
     "output_type": "execute_result"
    }
   ],
   "source": [
    "[x**2 for x in range(10)]\n",
    "# basic syntax [expression for item in iterable]\n",
    "#with conditional logic [expression for item in iterable if condition]\n",
    "\n"
   ]
  },
  {
   "cell_type": "code",
   "execution_count": 25,
   "metadata": {},
   "outputs": [
    {
     "name": "stdout",
     "output_type": "stream",
     "text": [
      "[0, 2, 4, 6, 8]\n"
     ]
    }
   ],
   "source": [
    "lst=[]\n",
    "for i in range(10):\n",
    "    if i%2==0:\n",
    "        lst.append(i)\n",
    "print(lst)"
   ]
  },
  {
   "cell_type": "code",
   "execution_count": 27,
   "metadata": {},
   "outputs": [
    {
     "data": {
      "text/plain": [
       "[0, 2, 4, 6, 8]"
      ]
     },
     "execution_count": 27,
     "metadata": {},
     "output_type": "execute_result"
    }
   ],
   "source": [
    "[num for num in range(10) if num%2==0]"
   ]
  },
  {
   "cell_type": "code",
   "execution_count": 28,
   "metadata": {},
   "outputs": [
    {
     "name": "stdout",
     "output_type": "stream",
     "text": [
      "[[1, 'a'], [1, 'b'], [1, 'c'], [1, 'd'], [2, 'a'], [2, 'b'], [2, 'c'], [2, 'd'], [3, 'a'], [3, 'b'], [3, 'c'], [3, 'd'], [4, 'a'], [4, 'b'], [4, 'c'], [4, 'd']]\n"
     ]
    }
   ],
   "source": [
    "#nested list comphrension\n",
    "lst3=[1,2,3,4]\n",
    "lst4=['a','b','c','d']\n",
    "pair=[[i,j] for i in lst3 for j in lst4 ]\n",
    "print(pair)"
   ]
  },
  {
   "cell_type": "code",
   "execution_count": 29,
   "metadata": {},
   "outputs": [
    {
     "name": "stdout",
     "output_type": "stream",
     "text": [
      "[9, 6, 4, 4, 10]\n"
     ]
    }
   ],
   "source": [
    "#list comprehension with function calls\n",
    "words=[\"keshavraj\",\"prasad\",\"pore\",\"list\",\"iamonlyone\"]\n",
    "length=[len(word) for word in words]\n",
    "print(length)"
   ]
  },
  {
   "cell_type": "code",
   "execution_count": null,
   "metadata": {},
   "outputs": [],
   "source": []
  }
 ],
 "metadata": {
  "kernelspec": {
   "display_name": "Python 3",
   "language": "python",
   "name": "python3"
  },
  "language_info": {
   "codemirror_mode": {
    "name": "ipython",
    "version": 3
   },
   "file_extension": ".py",
   "mimetype": "text/x-python",
   "name": "python",
   "nbconvert_exporter": "python",
   "pygments_lexer": "ipython3",
   "version": "3.12.0"
  }
 },
 "nbformat": 4,
 "nbformat_minor": 2
}
