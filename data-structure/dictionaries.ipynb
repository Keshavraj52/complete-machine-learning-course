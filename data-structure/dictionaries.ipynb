{
 "cells": [
  {
   "cell_type": "code",
   "execution_count": 1,
   "metadata": {},
   "outputs": [
    {
     "name": "stdout",
     "output_type": "stream",
     "text": [
      "<class 'dict'>\n"
     ]
    }
   ],
   "source": [
    "# creating a dictionaries\n",
    "\n",
    "empty_dic={}\n",
    "print(type(empty_dic))"
   ]
  },
  {
   "cell_type": "code",
   "execution_count": 2,
   "metadata": {},
   "outputs": [
    {
     "name": "stdout",
     "output_type": "stream",
     "text": [
      "{'name': 'keshav', 'age': '21', 'grade': '101'}\n",
      "<class 'dict'>\n"
     ]
    }
   ],
   "source": [
    "student={\"name\":\"keshav\",\"age\":\"21\",\"grade\":\"101\"}\n",
    "print(student)\n",
    "print(type(student))"
   ]
  },
  {
   "cell_type": "code",
   "execution_count": 4,
   "metadata": {},
   "outputs": [
    {
     "name": "stdout",
     "output_type": "stream",
     "text": [
      "{'name': '87', 'age': '21', 'grade': '101'}\n"
     ]
    }
   ],
   "source": [
    "students={\"name\":\"keshav\",\"age\":\"21\",\"grade\":\"101\",\"name\":\"87\"}\n",
    "print(students)"
   ]
  },
  {
   "cell_type": "code",
   "execution_count": 8,
   "metadata": {},
   "outputs": [
    {
     "name": "stdout",
     "output_type": "stream",
     "text": [
      "keshav\n",
      "21\n",
      "None\n",
      "not availiable\n"
     ]
    }
   ],
   "source": [
    "# accesing dictionary element\n",
    "# method 1\n",
    "print(student['name'])\n",
    "\n",
    "\n",
    "# method 2\n",
    "\n",
    "print(student.get('age'))\n",
    "print(student.get('last_name'))\n",
    "print(student.get('last_name',\"not availiable\"))"
   ]
  },
  {
   "cell_type": "code",
   "execution_count": 10,
   "metadata": {},
   "outputs": [
    {
     "name": "stdout",
     "output_type": "stream",
     "text": [
      "{'name': 'keshav', 'age': '21', 'grade': '101'}\n"
     ]
    }
   ],
   "source": [
    "# modification of dictionaries\n",
    "\n",
    "print(student)\n",
    "\n"
   ]
  },
  {
   "cell_type": "code",
   "execution_count": 11,
   "metadata": {},
   "outputs": [
    {
     "name": "stdout",
     "output_type": "stream",
     "text": [
      "{'name': 'keshav', 'age': 33, 'grade': '101'}\n",
      "{'name': 'keshav', 'age': 33, 'grade': '101', 'addres': 'india'}\n"
     ]
    }
   ],
   "source": [
    "student[\"age\"]=33# updated\n",
    "print(student)\n",
    "student[\"addres\"]=\"india\"# added new key\n",
    "print(student)"
   ]
  },
  {
   "cell_type": "code",
   "execution_count": 12,
   "metadata": {},
   "outputs": [
    {
     "name": "stdout",
     "output_type": "stream",
     "text": [
      "{'name': 'keshav', 'grade': '101', 'addres': 'india'}\n"
     ]
    }
   ],
   "source": [
    "del student['age']\n",
    "print(student)"
   ]
  },
  {
   "cell_type": "code",
   "execution_count": 13,
   "metadata": {},
   "outputs": [
    {
     "name": "stdout",
     "output_type": "stream",
     "text": [
      "dict_keys(['name', 'grade', 'addres'])\n",
      "dict_values(['keshav', '101', 'india'])\n",
      "dict_items([('name', 'keshav'), ('grade', '101'), ('addres', 'india')])\n"
     ]
    }
   ],
   "source": [
    "# dictionary methods\n",
    "\n",
    "keys=student.keys()\n",
    "print(keys)\n",
    "\n",
    "vales=student.values()\n",
    "print(vales)\n",
    "items=student.items()\n",
    "print(items)"
   ]
  },
  {
   "cell_type": "code",
   "execution_count": 17,
   "metadata": {},
   "outputs": [
    {
     "name": "stdout",
     "output_type": "stream",
     "text": [
      "{'name': 'keshavraj', 'grade': '101', 'addres': 'india'}\n",
      "{'name': 'keshavraj', 'grade': '101', 'addres': 'india'}\n",
      "{'name': 'keshavraj', 'grade': '101', 'addres': 'india'}\n"
     ]
    }
   ],
   "source": [
    "# shallow copy\n",
    "\n",
    "student_copy=student\n",
    "print(student)\n",
    "print(student_copy)\n",
    "shallow_copy=student.copy()\n",
    "print(shallow_copy)\n",
    "\n"
   ]
  },
  {
   "cell_type": "code",
   "execution_count": 18,
   "metadata": {},
   "outputs": [
    {
     "name": "stdout",
     "output_type": "stream",
     "text": [
      "{'name': 'keshav', 'grade': '101', 'addres': 'india'}\n",
      "{'name': 'keshav', 'grade': '101', 'addres': 'india'}\n",
      "{'name': 'keshavraj', 'grade': '101', 'addres': 'india'}\n"
     ]
    }
   ],
   "source": [
    "student[\"name\"]=\"keshav\"\n",
    "print(student)\n",
    "print(student_copy)\n",
    "print(shallow_copy)"
   ]
  },
  {
   "cell_type": "code",
   "execution_count": 19,
   "metadata": {},
   "outputs": [
    {
     "name": "stdout",
     "output_type": "stream",
     "text": [
      "keshav\n",
      "101\n",
      "india\n",
      "name\n",
      "grade\n",
      "addres\n"
     ]
    }
   ],
   "source": [
    "# iterating keys and values\n",
    "\n",
    "for value in student.values():\n",
    "    print(value)\n",
    "\n",
    "for keys in student.keys():\n",
    "    print(keys)"
   ]
  },
  {
   "cell_type": "code",
   "execution_count": 23,
   "metadata": {},
   "outputs": [
    {
     "name": "stdout",
     "output_type": "stream",
     "text": [
      "{'student1': {'name': {'schoolname': 'keshav', 'collagename': 'keshavraj'}, 'age': 21}, 'student2': {'name': {'schoolname': 'keshavrav', 'collagename': 'keshavraje'}, 'age': 21}}\n"
     ]
    }
   ],
   "source": [
    "## nested dictionaries\n",
    "\n",
    "students={\n",
    "    \"student1\":{\"name\":{\"schoolname\":\"keshav\",\"collagename\":\"keshavraj\"},\"age\":21},\n",
    "    \"student2\":{\"name\":{\"schoolname\":\"keshavrav\",\"collagename\":\"keshavraje\"},\"age\":21}\n",
    "}\n",
    "print(students)"
   ]
  },
  {
   "cell_type": "code",
   "execution_count": 21,
   "metadata": {},
   "outputs": [
    {
     "name": "stdout",
     "output_type": "stream",
     "text": [
      "keshav\n"
     ]
    }
   ],
   "source": [
    "# access nested dictionaries elements\n",
    "print(students[\"student1\"][\"name\"])"
   ]
  },
  {
   "cell_type": "code",
   "execution_count": 24,
   "metadata": {},
   "outputs": [
    {
     "name": "stdout",
     "output_type": "stream",
     "text": [
      "student1:{'name': {'schoolname': 'keshav', 'collagename': 'keshavraj'}, 'age': 21}\n",
      "name:{'schoolname': 'keshav', 'collagename': 'keshavraj'}\n",
      "age:21\n",
      "student2:{'name': {'schoolname': 'keshavrav', 'collagename': 'keshavraje'}, 'age': 21}\n",
      "name:{'schoolname': 'keshavrav', 'collagename': 'keshavraje'}\n",
      "age:21\n"
     ]
    }
   ],
   "source": [
    "for student_id,student_info in students.items():\n",
    "    print(f\"{student_id}:{student_info}\")\n",
    "    for key,value in student_info.items():\n",
    "        print(f\"{key}:{value}\")"
   ]
  },
  {
   "cell_type": "code",
   "execution_count": 28,
   "metadata": {},
   "outputs": [
    {
     "name": "stdout",
     "output_type": "stream",
     "text": [
      "{0: 0, 1: 1, 2: 8, 3: 27, 4: 64}\n"
     ]
    }
   ],
   "source": [
    "# dictionary comphrehention\n",
    "squers={x:x**3 for x in range(5)}\n",
    "print(squers)"
   ]
  },
  {
   "cell_type": "code",
   "execution_count": 29,
   "metadata": {},
   "outputs": [
    {
     "name": "stdout",
     "output_type": "stream",
     "text": [
      "{0: 0, 2: 4, 4: 16, 6: 36, 8: 64}\n"
     ]
    }
   ],
   "source": [
    "# coditional dictionary comphrehention\n",
    "\n",
    "evens={x:x**2 for x in range(10) if x%2==0}\n",
    "print(evens)"
   ]
  },
  {
   "cell_type": "code",
   "execution_count": 32,
   "metadata": {},
   "outputs": [
    {
     "name": "stdout",
     "output_type": "stream",
     "text": [
      "{1: 1, 2: 2, 5: 1, 4: 4, 52: 2, 53: 1, 65: 2, 22: 1}\n"
     ]
    }
   ],
   "source": [
    "# to count the frquency of list using dictionary\n",
    "\n",
    "num=[1,2,5,4,4,4,4,2,52,53,65,22,52,65]\n",
    "\n",
    "ferq=dict()\n",
    "for number in num:\n",
    "    if number in ferq:\n",
    "        ferq[number]+=1\n",
    "    else:\n",
    "        ferq[number]=1\n",
    "print(ferq)"
   ]
  },
  {
   "cell_type": "code",
   "execution_count": 36,
   "metadata": {},
   "outputs": [
    {
     "name": "stdout",
     "output_type": "stream",
     "text": [
      "{'a': 1, 'b': 3, 'C': 4, 'z': 2, 'g': 5, 'h': 7}\n"
     ]
    }
   ],
   "source": [
    "# merging of dictionary\n",
    "\n",
    "dict1={\"a\":1,\"b\":3,\"C\":4}\n",
    "dict2={\"z\":2,\"g\":5,\"h\":7}\n",
    "\n",
    "merge_dict={**dict1,**dict2}\n",
    "print(merge_dict)"
   ]
  },
  {
   "cell_type": "code",
   "execution_count": null,
   "metadata": {},
   "outputs": [],
   "source": []
  }
 ],
 "metadata": {
  "kernelspec": {
   "display_name": "Python 3",
   "language": "python",
   "name": "python3"
  },
  "language_info": {
   "codemirror_mode": {
    "name": "ipython",
    "version": 3
   },
   "file_extension": ".py",
   "mimetype": "text/x-python",
   "name": "python",
   "nbconvert_exporter": "python",
   "pygments_lexer": "ipython3",
   "version": "3.12.0"
  }
 },
 "nbformat": 4,
 "nbformat_minor": 2
}
