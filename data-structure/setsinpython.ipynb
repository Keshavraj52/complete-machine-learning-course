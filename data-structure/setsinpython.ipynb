{
 "cells": [
  {
   "cell_type": "code",
   "execution_count": 16,
   "metadata": {},
   "outputs": [
    {
     "name": "stdout",
     "output_type": "stream",
     "text": [
      "<class 'set'>\n",
      "{1, 2, 5}\n"
     ]
    }
   ],
   "source": [
    "# creating a sets\n",
    "\n",
    "my_set={1,2,5,5}\n",
    "print(type(my_set))\n",
    "print(my_set)"
   ]
  },
  {
   "cell_type": "code",
   "execution_count": 11,
   "metadata": {},
   "outputs": [
    {
     "data": {
      "text/plain": [
       "{1, 2, 5, 453}"
      ]
     },
     "execution_count": 11,
     "metadata": {},
     "output_type": "execute_result"
    }
   ],
   "source": [
    "#basic sets operation\n",
    "\n",
    "my_set.add(453)\n",
    "my_set"
   ]
  },
  {
   "cell_type": "code",
   "execution_count": 14,
   "metadata": {},
   "outputs": [
    {
     "data": {
      "text/plain": [
       "{1, 453}"
      ]
     },
     "execution_count": 14,
     "metadata": {},
     "output_type": "execute_result"
    }
   ],
   "source": [
    "#remove the element from the set\n",
    "my_set.discard(2)#also we can use remove\n",
    "\n",
    "my_set\n"
   ]
  },
  {
   "cell_type": "code",
   "execution_count": 17,
   "metadata": {},
   "outputs": [
    {
     "name": "stdout",
     "output_type": "stream",
     "text": [
      "1\n",
      "{2, 5}\n"
     ]
    }
   ],
   "source": [
    "#removing the random element using pop method\n",
    "removed_ele=my_set.pop()\n",
    "print(removed_ele)\n",
    "print(my_set)\n"
   ]
  },
  {
   "cell_type": "code",
   "execution_count": 18,
   "metadata": {},
   "outputs": [
    {
     "name": "stdout",
     "output_type": "stream",
     "text": [
      "set()\n"
     ]
    }
   ],
   "source": [
    "# clear all element\n",
    "\n",
    "my_set.clear()\n",
    "print(my_set)"
   ]
  },
  {
   "cell_type": "code",
   "execution_count": 19,
   "metadata": {},
   "outputs": [
    {
     "name": "stdout",
     "output_type": "stream",
     "text": [
      "True\n",
      "True\n"
     ]
    }
   ],
   "source": [
    "# set membership test\n",
    "my_set={1,2,4,5,7,5,453,534,453534}\n",
    "print(453 in my_set)\n",
    "print(534 in my_set)"
   ]
  },
  {
   "cell_type": "code",
   "execution_count": 39,
   "metadata": {},
   "outputs": [
    {
     "name": "stdout",
     "output_type": "stream",
     "text": [
      "{1, 2, 5, 6, 7, 8} {2, 3, 4, 5, 6, 845}\n",
      "{1, 2, 3, 4, 5, 6, 7, 8, 845}\n",
      "{2, 5, 6}\n",
      "{2, 5, 6}\n",
      "{8, 1, 7}\n"
     ]
    }
   ],
   "source": [
    "#mathematical element\n",
    "\n",
    "set1={1,5,6,8,7,2}\n",
    "set2={\n",
    "    4,2,5,845,6,3,5\n",
    "}\n",
    "print(set1,set2)\n",
    "# union of two set\n",
    "\n",
    "\n",
    "union_set=set1.union(set2)\n",
    "print(union_set)\n",
    "\n",
    "# intersection\n",
    "intersection_set=set1.intersection(set2)\n",
    "print(intersection_set)\n",
    "\n",
    "set2.intersection_update(set1)\n",
    "print(set2)\n",
    "print(set1.difference(set2))\n"
   ]
  },
  {
   "cell_type": "code",
   "execution_count": 44,
   "metadata": {},
   "outputs": [
    {
     "name": "stdout",
     "output_type": "stream",
     "text": [
      "True\n",
      "False\n"
     ]
    }
   ],
   "source": [
    "set3={12}\n",
    "set4={12,8,3,453,78}\n",
    "# symmetric difference\n",
    "set3.symmetric_difference(set4)\n",
    "\n",
    "print(set3.issubset(set4)\n",
    ")\n",
    "print(set3.issuperset(set4))"
   ]
  },
  {
   "cell_type": "code",
   "execution_count": 45,
   "metadata": {},
   "outputs": [
    {
     "name": "stdout",
     "output_type": "stream",
     "text": [
      "[2, 4, 5, 8, 12, 45] <class 'list'>\n"
     ]
    }
   ],
   "source": [
    "# if we have list of many dupliucate element and we want to make an unique elements list \n",
    "# then convert it into a set \n",
    "\n",
    "lst=[12,45,12,2,5,2,4,8,8]\n",
    "\n",
    "lst=set(lst)\n",
    "lst=list(lst)\n",
    "print(lst,type(lst))\n"
   ]
  },
  {
   "cell_type": "code",
   "execution_count": 49,
   "metadata": {},
   "outputs": [
    {
     "name": "stdout",
     "output_type": "stream",
     "text": [
      "{'i', 'name', 'is', 'keshavraj', 'like', 'my'}\n",
      "6\n"
     ]
    }
   ],
   "source": [
    "# counting of unique words in the list\n",
    "\n",
    "text=\"my name is keshavraj i like my name\"\n",
    "\n",
    "words=text.split()\n",
    "unique_words=set(words)\n",
    "print(unique_words)\n",
    "print(len(unique_words))"
   ]
  },
  {
   "cell_type": "code",
   "execution_count": null,
   "metadata": {},
   "outputs": [],
   "source": []
  }
 ],
 "metadata": {
  "kernelspec": {
   "display_name": "Python 3",
   "language": "python",
   "name": "python3"
  },
  "language_info": {
   "codemirror_mode": {
    "name": "ipython",
    "version": 3
   },
   "file_extension": ".py",
   "mimetype": "text/x-python",
   "name": "python",
   "nbconvert_exporter": "python",
   "pygments_lexer": "ipython3",
   "version": "3.12.0"
  }
 },
 "nbformat": 4,
 "nbformat_minor": 2
}
