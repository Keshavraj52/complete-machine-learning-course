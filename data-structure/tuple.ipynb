{
 "cells": [
  {
   "cell_type": "code",
   "execution_count": 1,
   "metadata": {},
   "outputs": [
    {
     "name": "stdout",
     "output_type": "stream",
     "text": [
      "()\n",
      "<class 'tuple'>\n"
     ]
    }
   ],
   "source": [
    "#creating a tuple\n",
    "\n",
    "empty_tuple=()\n",
    "print(empty_tuple)\n",
    "print(type(empty_tuple))"
   ]
  },
  {
   "cell_type": "code",
   "execution_count": 3,
   "metadata": {},
   "outputs": [
    {
     "name": "stdout",
     "output_type": "stream",
     "text": [
      "<class 'list'>\n",
      "<class 'tuple'>\n"
     ]
    }
   ],
   "source": [
    "lst=list()\n",
    "print(type(lst))\n",
    "tpl=tuple()\n",
    "print(type(tpl))"
   ]
  },
  {
   "cell_type": "code",
   "execution_count": 7,
   "metadata": {},
   "outputs": [
    {
     "name": "stdout",
     "output_type": "stream",
     "text": [
      "(1, 2, 3, 4)\n"
     ]
    },
    {
     "data": {
      "text/plain": [
       "[1, 2, 54, 3]"
      ]
     },
     "execution_count": 7,
     "metadata": {},
     "output_type": "execute_result"
    }
   ],
   "source": [
    "utp=tuple([1,2,3,4])\n",
    "print(utp)\n",
    "list((1,2,54,3))\n"
   ]
  },
  {
   "cell_type": "code",
   "execution_count": 9,
   "metadata": {},
   "outputs": [
    {
     "name": "stdout",
     "output_type": "stream",
     "text": [
      "(1, 2, 'keshav')\n"
     ]
    }
   ],
   "source": [
    "mix_tuple=(1,2,\"keshav\")\n",
    "print(mix_tuple)"
   ]
  },
  {
   "cell_type": "code",
   "execution_count": 27,
   "metadata": {},
   "outputs": [
    {
     "data": {
      "text/plain": [
       "(9, 8, 24, 45, 78, 7, 6, 5, 4, 3, 2, 1)"
      ]
     },
     "execution_count": 27,
     "metadata": {},
     "output_type": "execute_result"
    }
   ],
   "source": [
    "#accessing tuple element\n",
    "numbers=(1,2,3,4,5,6,7,78,45,24,8,9)\n",
    "numbers[::-1]"
   ]
  },
  {
   "cell_type": "code",
   "execution_count": 13,
   "metadata": {},
   "outputs": [
    {
     "name": "stdout",
     "output_type": "stream",
     "text": [
      "(1, 2, 4, 5, 6, 7, 8, 9, 1, 2, 'keshav')\n"
     ]
    }
   ],
   "source": [
    "#tuple operations\n",
    "concatinating_tuple=numbers + mix_tuple\n",
    "print(concatinating_tuple)"
   ]
  },
  {
   "cell_type": "code",
   "execution_count": 18,
   "metadata": {},
   "outputs": [
    {
     "ename": "TypeError",
     "evalue": "'tuple' object does not support item assignment",
     "output_type": "error",
     "traceback": [
      "\u001b[1;31m---------------------------------------------------------------------------\u001b[0m",
      "\u001b[1;31mTypeError\u001b[0m                                 Traceback (most recent call last)",
      "Cell \u001b[1;32mIn[18], line 2\u001b[0m\n\u001b[0;32m      1\u001b[0m \u001b[38;5;66;03m#immutable nature of tuple\u001b[39;00m\n\u001b[1;32m----> 2\u001b[0m \u001b[43mconcatinating_tuple\u001b[49m\u001b[43m[\u001b[49m\u001b[38;5;241;43m1\u001b[39;49m\u001b[43m]\u001b[49m\u001b[38;5;241m=\u001b[39m\u001b[38;5;124m\"\u001b[39m\u001b[38;5;124mkeshavraj\u001b[39m\u001b[38;5;124m\"\u001b[39m\n",
      "\u001b[1;31mTypeError\u001b[0m: 'tuple' object does not support item assignment"
     ]
    }
   ],
   "source": [
    "#immutable nature of tuple\n",
    "concatinating_tuple[1]=\"keshavraj\"\n",
    "\n"
   ]
  },
  {
   "cell_type": "code",
   "execution_count": 22,
   "metadata": {},
   "outputs": [
    {
     "name": "stdout",
     "output_type": "stream",
     "text": [
      "1\n",
      "2\n"
     ]
    }
   ],
   "source": [
    "#tuple methods\n",
    "\n",
    "print(numbers.count(1))# how many time 1 is present in the tuple\n",
    "print(numbers.index(3))# on which index 3 is present\n"
   ]
  },
  {
   "cell_type": "code",
   "execution_count": 23,
   "metadata": {},
   "outputs": [
    {
     "name": "stdout",
     "output_type": "stream",
     "text": [
      "(1, 2, 3, 'keshav')\n"
     ]
    }
   ],
   "source": [
    "# packing And unpacking of element\n",
    "#packing\n",
    "packed_ele=1,2,3,\"keshav\"\n",
    "print(packed_ele)"
   ]
  },
  {
   "cell_type": "code",
   "execution_count": 32,
   "metadata": {},
   "outputs": [
    {
     "name": "stdout",
     "output_type": "stream",
     "text": [
      "1 2 keshav\n",
      "1 2 [3, 4, 5, 6, 7, 78, 45, 24, 8] 9\n"
     ]
    }
   ],
   "source": [
    "#unpacking tuple\n",
    "\n",
    "a,d,f,g=packed_ele\n",
    "print(a,d,g)\n",
    "# unpacking with *\n",
    "a,n,*b ,c=numbers\n",
    "print(a,n,b,c)"
   ]
  },
  {
   "cell_type": "code",
   "execution_count": 36,
   "metadata": {},
   "outputs": [
    {
     "name": "stdout",
     "output_type": "stream",
     "text": [
      "keshav\n"
     ]
    }
   ],
   "source": [
    "# nested tuples\n",
    "#nested list\n",
    "lst=[[1,2,4,5,6],[1,2,3,4,8],[\"keshav\",4,5,9,2]]\n",
    "print(lst[2][0])"
   ]
  },
  {
   "cell_type": "code",
   "execution_count": 45,
   "metadata": {},
   "outputs": [
    {
     "name": "stdout",
     "output_type": "stream",
     "text": [
      "((2, 3, 7, 4), (15, 45, 4), [1, 2, 3])\n",
      "((2, 3, 7, 4), (15, 45, 4), [1, 2, 'keshav'])\n",
      "[(15, 45, 4)]\n"
     ]
    }
   ],
   "source": [
    "nes=((2,3,7,4),(15,45,4),[1,2,3])# in nested tuple or a list we can add tuple or a list inside the tuple or a list\n",
    "print(nes)\n",
    "nes[2][2]=\"keshav\"\n",
    "print(nes)\n",
    "kes=[(nes[1])]\n",
    "print(kes)"
   ]
  },
  {
   "cell_type": "code",
   "execution_count": 39,
   "metadata": {},
   "outputs": [
    {
     "name": "stdout",
     "output_type": "stream",
     "text": [
      "2 3 7 4 \n",
      "15 45 4 \n",
      "1 2 3 \n"
     ]
    }
   ],
   "source": [
    "for sub_tuple in nes:\n",
    "    for item in sub_tuple:\n",
    "        print(item,end=\" \")\n",
    "    print()"
   ]
  },
  {
   "cell_type": "code",
   "execution_count": 52,
   "metadata": {},
   "outputs": [
    {
     "name": "stdout",
     "output_type": "stream",
     "text": [
      "[1, 2, 5, 3, 5]\n",
      "[1, 2, '453534', 3, 5]\n",
      "(1, 2, '453534', 3, 5)\n"
     ]
    }
   ],
   "source": [
    "kesh=(1,2,5,3,5)\n",
    "keshav=list((kesh))\n",
    "print(keshav)\n",
    "keshav[2]=\"453534\"\n",
    "print(keshav)\n",
    "kesh=tuple(keshav)\n",
    "print(kesh)"
   ]
  },
  {
   "cell_type": "code",
   "execution_count": null,
   "metadata": {},
   "outputs": [],
   "source": []
  }
 ],
 "metadata": {
  "kernelspec": {
   "display_name": "Python 3",
   "language": "python",
   "name": "python3"
  },
  "language_info": {
   "codemirror_mode": {
    "name": "ipython",
    "version": 3
   },
   "file_extension": ".py",
   "mimetype": "text/x-python",
   "name": "python",
   "nbconvert_exporter": "python",
   "pygments_lexer": "ipython3",
   "version": "3.12.0"
  }
 },
 "nbformat": 4,
 "nbformat_minor": 2
}
