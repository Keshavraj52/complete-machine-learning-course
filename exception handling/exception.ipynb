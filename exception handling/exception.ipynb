{
 "cells": [
  {
   "cell_type": "code",
   "execution_count": 1,
   "metadata": {},
   "outputs": [
    {
     "name": "stdout",
     "output_type": "stream",
     "text": [
      "the vairiable has not been assigned\n"
     ]
    }
   ],
   "source": [
    "## exception try , except\n",
    "\n",
    "try:\n",
    "    a=b\n",
    "except:\n",
    "    print(\"the vairiable has not been assigned\")"
   ]
  },
  {
   "cell_type": "code",
   "execution_count": 2,
   "metadata": {},
   "outputs": [
    {
     "name": "stdout",
     "output_type": "stream",
     "text": [
      "name 'b' is not defined\n"
     ]
    }
   ],
   "source": [
    "try:\n",
    "    a=b\n",
    "except NameError as ex:\n",
    "    print(ex)"
   ]
  },
  {
   "cell_type": "code",
   "execution_count": 16,
   "metadata": {},
   "outputs": [
    {
     "name": "stdout",
     "output_type": "stream",
     "text": [
      "division by zero\n",
      "enter another than zero number\n"
     ]
    }
   ],
   "source": [
    "try:\n",
    "    result=1/0\n",
    "    a=b\n",
    "\n",
    "except ZeroDivisionError as zr:\n",
    "    print(zr)\n",
    "    print(\"enter another than zero number\")\n",
    "except Exception as zr1:\n",
    "    print(zr1)\n",
    "    print(\"assign proper valid vairiable\")\n"
   ]
  },
  {
   "cell_type": "code",
   "execution_count": 25,
   "metadata": {},
   "outputs": [
    {
     "name": "stdout",
     "output_type": "stream",
     "text": [
      "0.848314606741573\n"
     ]
    }
   ],
   "source": [
    "try:\n",
    "    def division(num):\n",
    "        result=453/num\n",
    "        print(result)\n",
    "    division(int(input(\"enter number\")))\n",
    "\n",
    "except ValueError:\n",
    "    print(\"enter valid number \")\n",
    "except ZeroDivisionError:\n",
    "    print(\"enter another number than zero\")\n",
    "\n"
   ]
  },
  {
   "cell_type": "code",
   "execution_count": 27,
   "metadata": {},
   "outputs": [
    {
     "name": "stdout",
     "output_type": "stream",
     "text": [
      "the divsion of the number is 0.0022060445621001545\n"
     ]
    }
   ],
   "source": [
    "try:\n",
    "    num=int(input(\"enter a number:\"))\n",
    "    result=10/num\n",
    "\n",
    "except ValueError:\n",
    "    print(\"enter valid number \")\n",
    "except ZeroDivisionError:\n",
    "    print(\"enter another number than zero\")\n",
    "\n",
    "else:\n",
    "    print(f\"the divsion of the number is {result}\")\n"
   ]
  },
  {
   "cell_type": "code",
   "execution_count": 29,
   "metadata": {},
   "outputs": [
    {
     "name": "stdout",
     "output_type": "stream",
     "text": [
      "enter valid number \n",
      "Excecution completed\n"
     ]
    }
   ],
   "source": [
    "try:\n",
    "    num=int(input(\"enter a number:\"))\n",
    "    result=10/num\n",
    "\n",
    "except ValueError:\n",
    "    print(\"enter valid number \")\n",
    "except ZeroDivisionError:\n",
    "    print(\"enter another number than zero\")\n",
    "\n",
    "else:\n",
    "    print(f\"the divsion of the number is {result}\")\n",
    "\n",
    "finally:\n",
    "    print(\"Excecution completed\")"
   ]
  },
  {
   "cell_type": "code",
   "execution_count": 31,
   "metadata": {},
   "outputs": [
    {
     "name": "stdout",
     "output_type": "stream",
     "text": [
      "the file is not found in this dictionary\n"
     ]
    }
   ],
   "source": [
    "## file handling and exception handling\n",
    "\n",
    "try:\n",
    "    file=open('example.txt','r')\n",
    "    content=file.read()\n",
    "    print(content)\n",
    "except FileNotFoundError:\n",
    "    print(\"the file is not found in this dictionary\")\n",
    "\n",
    "finally:\n",
    "    if 'file' in locals() and not file.closed():\n",
    "        file.close()\n",
    "        print('file close')"
   ]
  },
  {
   "cell_type": "code",
   "execution_count": 33,
   "metadata": {},
   "outputs": [],
   "source": [
    "if 'file' in locals():\n",
    "    print(True)"
   ]
  },
  {
   "cell_type": "code",
   "execution_count": null,
   "metadata": {},
   "outputs": [],
   "source": []
  }
 ],
 "metadata": {
  "kernelspec": {
   "display_name": "Python 3",
   "language": "python",
   "name": "python3"
  },
  "language_info": {
   "codemirror_mode": {
    "name": "ipython",
    "version": 3
   },
   "file_extension": ".py",
   "mimetype": "text/x-python",
   "name": "python",
   "nbconvert_exporter": "python",
   "pygments_lexer": "ipython3",
   "version": "3.12.0"
  }
 },
 "nbformat": 4,
 "nbformat_minor": 2
}
