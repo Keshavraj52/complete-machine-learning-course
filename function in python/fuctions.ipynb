{
 "cells": [
  {
   "cell_type": "code",
   "execution_count": 1,
   "metadata": {},
   "outputs": [],
   "source": [
    "# function is a block of code that performs a specific task. function help in organizing code\n",
    "# reusing code and improving readability\n",
    "\n",
    "\n",
    "\n",
    "def function_name(parameters):\n",
    "    \"\"\"docstring\"\"\"\n",
    "    # function body\n",
    "    return expression\n",
    "\n",
    "\n",
    "# this is the basic syntax of function\n"
   ]
  },
  {
   "cell_type": "code",
   "execution_count": 2,
   "metadata": {},
   "outputs": [
    {
     "name": "stdout",
     "output_type": "stream",
     "text": [
      "the number is even\n"
     ]
    }
   ],
   "source": [
    "# why function \n",
    "num=24\n",
    "if num%2==0:\n",
    "    print(\"the number is even\")\n",
    "\n",
    "else:\n",
    "    print(\"number is odd\"\n",
    "    )\n",
    "\n",
    "\n",
    "\n",
    "    "
   ]
  },
  {
   "cell_type": "code",
   "execution_count": 3,
   "metadata": {},
   "outputs": [
    {
     "name": "stdout",
     "output_type": "stream",
     "text": [
      " the number is odd\n"
     ]
    }
   ],
   "source": [
    "def even_or_odd(num):\n",
    "    \"\"\"\"this fuction is performs to find even or odd\"\"\"\n",
    "    if num%2==0:\n",
    "        print(\"the number is even\")\n",
    "    else:\n",
    "        print(\" the number is odd\")\n",
    "\n",
    "\n",
    "even_or_odd(453)"
   ]
  },
  {
   "cell_type": "code",
   "execution_count": 4,
   "metadata": {},
   "outputs": [
    {
     "name": "stdout",
     "output_type": "stream",
     "text": [
      "the number is even\n"
     ]
    }
   ],
   "source": [
    "even_or_odd(534)"
   ]
  },
  {
   "cell_type": "code",
   "execution_count": 5,
   "metadata": {},
   "outputs": [
    {
     "name": "stdout",
     "output_type": "stream",
     "text": [
      "37\n"
     ]
    }
   ],
   "source": [
    "## function with multiple parameter \n",
    "\n",
    "def add(a,b):\n",
    "    return a+b\n",
    "\n",
    "result=add(15,22)\n",
    "print(result)"
   ]
  },
  {
   "cell_type": "code",
   "execution_count": 6,
   "metadata": {},
   "outputs": [
    {
     "name": "stdout",
     "output_type": "stream",
     "text": [
      "hello keshavraj\n"
     ]
    }
   ],
   "source": [
    "\n",
    "def great(name):\n",
    "    print(f\"hello {name}\")\n",
    "\n",
    "\n",
    "great(\"keshavraj\")"
   ]
  },
  {
   "cell_type": "code",
   "execution_count": 7,
   "metadata": {},
   "outputs": [
    {
     "name": "stdout",
     "output_type": "stream",
     "text": [
      "hello guest\n"
     ]
    }
   ],
   "source": [
    "## default parameter  \n",
    "\n",
    "def great(name=\"guest\"):\n",
    "    print(f\"hello {name}\")\n",
    "\n",
    "\n",
    "great()"
   ]
  },
  {
   "cell_type": "code",
   "execution_count": 8,
   "metadata": {},
   "outputs": [],
   "source": [
    "# variable length arguments\n",
    "# positional arguments\n",
    "\n",
    "def print_number(*args):\n",
    "    for numbers in args:\n",
    "        print(numbers)"
   ]
  },
  {
   "cell_type": "code",
   "execution_count": 9,
   "metadata": {},
   "outputs": [
    {
     "name": "stdout",
     "output_type": "stream",
     "text": [
      "1\n",
      "52\n",
      "5\n",
      "2\n",
      "5\n",
      "5\n",
      "keshav\n"
     ]
    }
   ],
   "source": [
    "print_number(1,52,5,2,5,5,\"keshav\")"
   ]
  },
  {
   "cell_type": "code",
   "execution_count": 10,
   "metadata": {},
   "outputs": [],
   "source": [
    "# keyword arguments (key:word)\n",
    "\n",
    "def print_details(**kwargs):# ** is a key word argument\n",
    "    for key,value in kwargs.items():\n",
    "        print(f\"key {key}: word {value}\")\n"
   ]
  },
  {
   "cell_type": "code",
   "execution_count": 11,
   "metadata": {},
   "outputs": [
    {
     "name": "stdout",
     "output_type": "stream",
     "text": [
      "key name: word keshav\n",
      "key age: word 21\n",
      "key country: word india\n"
     ]
    }
   ],
   "source": [
    "print_details(name=\"keshav\",age=\"21\",country=\"india\")"
   ]
  },
  {
   "cell_type": "code",
   "execution_count": 12,
   "metadata": {},
   "outputs": [],
   "source": [
    "def print_details(*args,**kwargs):\n",
    "    for numbers in args:\n",
    "        print(\"positional argument:\",numbers)\n",
    "    for key,value in kwargs.items():\n",
    "        print(f\"key {key}: word {value}\")\n"
   ]
  },
  {
   "cell_type": "code",
   "execution_count": 15,
   "metadata": {},
   "outputs": [
    {
     "name": "stdout",
     "output_type": "stream",
     "text": [
      "positional argument: 1\n",
      "positional argument: 2\n",
      "positional argument: 54\n",
      "positional argument: 2\n",
      "positional argument: 5\n",
      "positional argument: 2\n",
      "positional argument: 5\n",
      "key name: word keshav\n",
      "key age: word 21\n",
      "key country: word india\n"
     ]
    }
   ],
   "source": [
    "print_details(1,2,54,2,5,2,5,name=\"keshav\",age=\"21\",country=\"india\")"
   ]
  },
  {
   "cell_type": "code",
   "execution_count": 16,
   "metadata": {},
   "outputs": [
    {
     "data": {
      "text/plain": [
       "(10, 2)"
      ]
     },
     "execution_count": 16,
     "metadata": {},
     "output_type": "execute_result"
    }
   ],
   "source": [
    "## return statement can return multiple parameter \n",
    "\n",
    "\n",
    "\n",
    "def multiply(a,b):\n",
    "    return a*b,a\n",
    "multiply(2,5)"
   ]
  },
  {
   "cell_type": "code",
   "execution_count": 18,
   "metadata": {},
   "outputs": [
    {
     "data": {
      "text/plain": [
       "98.6"
      ]
     },
     "execution_count": 18,
     "metadata": {},
     "output_type": "execute_result"
    }
   ],
   "source": [
    "def convert_temp(temp,unit):\n",
    "    \"\"\"\"this function to convert cel to fara\"\"\"\n",
    "\n",
    "    if unit=='c':\n",
    "        return temp *9/5+32 \n",
    "    elif unit=='f':\n",
    "        return (temp-32)*5/9 \n",
    "    else:\n",
    "        print(\"invalid unit\")\n",
    "\n",
    "\n",
    "convert_temp(37,'c')"
   ]
  },
  {
   "cell_type": "code",
   "execution_count": 19,
   "metadata": {},
   "outputs": [],
   "source": [
    "def is_stronge_password(password):\n",
    "    \"\"\"this function checks password is strong or not\"\"\"\n",
    "    if len(password)<8:\n",
    "        return False\n",
    "    if not any(char.isdigit() for char in password):\n",
    "        return False\n",
    "    if not any(char.islower for char in password):\n",
    "        return False\n",
    "    if not any(char.isupper for char in password):\n",
    "        return False\n",
    "    if not any(char in '!@#$%^&*()_+-/<>' for char in password):\n",
    "        return False\n",
    "    return True"
   ]
  },
  {
   "cell_type": "code",
   "execution_count": 37,
   "metadata": {},
   "outputs": [
    {
     "name": "stdout",
     "output_type": "stream",
     "text": [
      "True\n",
      "True\n"
     ]
    }
   ],
   "source": [
    "print(is_stronge_password(\"Keshavraj@1323\"))\n",
    "print(is_stronge_password(\"5221&01101\"))"
   ]
  },
  {
   "cell_type": "code",
   "execution_count": 41,
   "metadata": {},
   "outputs": [
    {
     "data": {
      "text/plain": [
       "411"
      ]
     },
     "execution_count": 41,
     "metadata": {},
     "output_type": "execute_result"
    }
   ],
   "source": [
    "def calculate_prize(cart):\n",
    "    total_cost=0\n",
    "    for item in cart:\n",
    "        total_cost+=item['prize']*item['quantity']\n",
    "    return total_cost\n",
    "\n",
    "\n",
    "cart=[\n",
    "    {\"name\":\"banana\",\"prize\":24,\"quantity\":3},\n",
    "    {\"name\":\"banana\",\"prize\":27,\"quantity\":4},\n",
    "    {\"name\":\"banana\",\"prize\":42,\"quantity\":2},\n",
    "    {\"name\":\"banana\",\"prize\":21,\"quantity\":7}\n",
    "]\n",
    "calculate_prize(cart)"
   ]
  },
  {
   "cell_type": "code",
   "execution_count": 43,
   "metadata": {},
   "outputs": [
    {
     "data": {
      "text/plain": [
       "True"
      ]
     },
     "execution_count": 43,
     "metadata": {},
     "output_type": "execute_result"
    }
   ],
   "source": [
    "# palindrome\n",
    "def is_palindrme(s):\n",
    "    s=s.lower().replace(\" \",\"\")\n",
    "    return s[::-1]==s\n",
    "\n",
    "is_palindrme(\"ada da\")"
   ]
  },
  {
   "cell_type": "code",
   "execution_count": 44,
   "metadata": {},
   "outputs": [
    {
     "data": {
      "text/plain": [
       "120"
      ]
     },
     "execution_count": 44,
     "metadata": {},
     "output_type": "execute_result"
    }
   ],
   "source": [
    "def factorial(n):\n",
    "    if n ==0:\n",
    "        return 1\n",
    "    else:\n",
    "        return n*factorial(n-1)\n",
    "factorial(5)"
   ]
  },
  {
   "cell_type": "code",
   "execution_count": 1,
   "metadata": {},
   "outputs": [
    {
     "data": {
      "text/plain": [
       "<function __main__.<lambda>(arguments)>"
      ]
     },
     "execution_count": 1,
     "metadata": {},
     "output_type": "execute_result"
    }
   ],
   "source": [
    "## lambada function\n",
    "\n",
    "\n",
    "lambda arguments:expression\n",
    "\n"
   ]
  },
  {
   "cell_type": "code",
   "execution_count": 2,
   "metadata": {},
   "outputs": [],
   "source": [
    "addition=lambda a,b:a+b"
   ]
  },
  {
   "cell_type": "code",
   "execution_count": 3,
   "metadata": {},
   "outputs": [
    {
     "name": "stdout",
     "output_type": "stream",
     "text": [
      "40\n"
     ]
    }
   ],
   "source": [
    "print(addition(15,25))"
   ]
  },
  {
   "cell_type": "code",
   "execution_count": 6,
   "metadata": {},
   "outputs": [
    {
     "name": "stdout",
     "output_type": "stream",
     "text": [
      "False\n"
     ]
    }
   ],
   "source": [
    "def even(num):\n",
    "    if num%2==0:\n",
    "        return True\n",
    "    else:\n",
    "        return False\n",
    "\n",
    "even(453)\n",
    "print(even(453))\n"
   ]
  },
  {
   "cell_type": "code",
   "execution_count": 7,
   "metadata": {},
   "outputs": [
    {
     "name": "stdout",
     "output_type": "stream",
     "text": [
      "True\n"
     ]
    }
   ],
   "source": [
    "even1=lambda num:num%2==0\n",
    "print(even1(534))"
   ]
  },
  {
   "cell_type": "code",
   "execution_count": 8,
   "metadata": {},
   "outputs": [
    {
     "name": "stdout",
     "output_type": "stream",
     "text": [
      "70\n"
     ]
    }
   ],
   "source": [
    "addition1=lambda x,y,z:x+y+z\n",
    "print(addition1(12,45,13))\n"
   ]
  },
  {
   "cell_type": "code",
   "execution_count": 20,
   "metadata": {},
   "outputs": [
    {
     "name": "stdout",
     "output_type": "stream",
     "text": [
      "1\n",
      "4\n",
      "16\n",
      "25\n",
      "9\n",
      "6084\n",
      "4\n"
     ]
    }
   ],
   "source": [
    "## map () - applies a function to all items in a list\n",
    "\n",
    "\n",
    "numbers=[1,2,4,5,3,78,2]\n",
    "def square(number):\n",
    "    for num in number:\n",
    "        c=num**2\n",
    "        print(c)\n",
    "\n",
    "\n",
    "square(numbers)\n",
    "    "
   ]
  },
  {
   "cell_type": "code",
   "execution_count": 24,
   "metadata": {},
   "outputs": [
    {
     "data": {
      "text/plain": [
       "[1, 4, 16, 25, 9, 6084, 4]"
      ]
     },
     "execution_count": 24,
     "metadata": {},
     "output_type": "execute_result"
    }
   ],
   "source": [
    "list(map(lambda x:x**2,numbers  ))"
   ]
  },
  {
   "cell_type": "code",
   "execution_count": 25,
   "metadata": {},
   "outputs": [],
   "source": [
    "def even(num):\n",
    "    if num%2==0:\n",
    "        return True\n",
    "    else:\n",
    "        return False\n",
    "    "
   ]
  },
  {
   "cell_type": "code",
   "execution_count": 26,
   "metadata": {},
   "outputs": [
    {
     "data": {
      "text/plain": [
       "[False, True, True, False, False, True, True]"
      ]
     },
     "execution_count": 26,
     "metadata": {},
     "output_type": "execute_result"
    }
   ],
   "source": [
    "list(map(even,numbers))"
   ]
  },
  {
   "cell_type": "code",
   "execution_count": 28,
   "metadata": {},
   "outputs": [
    {
     "name": "stdout",
     "output_type": "stream",
     "text": [
      "[55, 8, 55, 458]\n"
     ]
    }
   ],
   "source": [
    "## can we map multiple iterables\n",
    "\n",
    "number1=[1,2,54,2]\n",
    "number2=[54,6,1,456,4]\n",
    "\n",
    "added=list(map(lambda x,y:x+y,number1,number2))\n",
    "print(added)\n"
   ]
  },
  {
   "cell_type": "code",
   "execution_count": 29,
   "metadata": {},
   "outputs": [
    {
     "name": "stdout",
     "output_type": "stream",
     "text": [
      "['APPLE', 'BANANA', 'CHERRY']\n"
     ]
    }
   ],
   "source": [
    "words=[\"apple\",\"banana\",\"cherry\"]\n",
    "\n",
    "upper_word=list(map(str.upper,words))\n",
    "\n",
    "print(upper_word)"
   ]
  },
  {
   "cell_type": "code",
   "execution_count": 39,
   "metadata": {},
   "outputs": [
    {
     "data": {
      "text/plain": [
       "['keshavraj', 'kesh', 'keshav']"
      ]
     },
     "execution_count": 39,
     "metadata": {},
     "output_type": "execute_result"
    }
   ],
   "source": [
    "def get_name(person):\n",
    "    return person['name']\n",
    "people=[\n",
    "    {\"name\":\"keshavraj\",\"age\":21},\n",
    "    {\"name\":\"kesh\",\"age\":25},\n",
    "    {\"name\":\"keshav\",\"age\":212}\n",
    "]\n",
    "list(map(get_name,people))"
   ]
  },
  {
   "cell_type": "code",
   "execution_count": 40,
   "metadata": {},
   "outputs": [
    {
     "data": {
      "text/plain": [
       "[52, 6, 5852]"
      ]
     },
     "execution_count": 40,
     "metadata": {},
     "output_type": "execute_result"
    }
   ],
   "source": [
    "lst=[125,52,3,6,5852,5,5]\n",
    "\n",
    "list(filter(even,lst))"
   ]
  },
  {
   "cell_type": "code",
   "execution_count": 43,
   "metadata": {},
   "outputs": [
    {
     "name": "stdout",
     "output_type": "stream",
     "text": [
      "[52, 6, 5852]\n"
     ]
    }
   ],
   "source": [
    "# filter with lambda function\n",
    "grater_than_five=list(filter(lambda x:x>5 and x%2==0,lst))\n",
    "print(grater_than_five)"
   ]
  },
  {
   "cell_type": "code",
   "execution_count": 53,
   "metadata": {},
   "outputs": [
    {
     "name": "stdout",
     "output_type": "stream",
     "text": [
      "<class 'dict'>\n"
     ]
    }
   ],
   "source": [
    "# filter the age grater than 25 in the dictionaries\n",
    "\n",
    "student={\n",
    "  \"rollno1\": {\"name\":\"keshavraj\",\"age\":21},\n",
    "   \"rollno2\": {\"name\":\"kesh\",\"age\":222},\n",
    "   \"rollno3\": {\"name\":\"keshav\",\"age\":212}\n",
    "}\n",
    "print(type(student))"
   ]
  },
  {
   "cell_type": "code",
   "execution_count": 54,
   "metadata": {},
   "outputs": [
    {
     "name": "stdout",
     "output_type": "stream",
     "text": [
      "{'name': ['kesh', 'keshav']}\n"
     ]
    }
   ],
   "source": [
    "greater_than_25={\"name\":[]}\n",
    "for i,j in student.items():\n",
    "    name=j[\"name\"]\n",
    "    age=j[\"age\"]\n",
    "    if age>25:\n",
    "        greater_than_25[\"name\"].append(name)\n",
    "print(greater_than_25)\n",
    "\n",
    "\n"
   ]
  },
  {
   "cell_type": "code",
   "execution_count": 56,
   "metadata": {},
   "outputs": [
    {
     "data": {
      "text/plain": [
       "[{'name': 'kesh', 'age': 222}, {'name': 'keshav', 'age': 212}]"
      ]
     },
     "execution_count": 56,
     "metadata": {},
     "output_type": "execute_result"
    }
   ],
   "source": [
    "student=[\n",
    "    {\"name\":\"keshavraj\",\"age\":21},\n",
    "    {\"name\":\"kesh\",\"age\":222},\n",
    "    {\"name\":\"keshav\",\"age\":212}\n",
    "]\n",
    "def greater_than_255(person):\n",
    "    return person[\"age\"]>25\n",
    "\n",
    "list(filter(greater_than_255,student))"
   ]
  },
  {
   "cell_type": "code",
   "execution_count": null,
   "metadata": {},
   "outputs": [],
   "source": []
  }
 ],
 "metadata": {
  "kernelspec": {
   "display_name": "Python 3",
   "language": "python",
   "name": "python3"
  },
  "language_info": {
   "codemirror_mode": {
    "name": "ipython",
    "version": 3
   },
   "file_extension": ".py",
   "mimetype": "text/x-python",
   "name": "python",
   "nbconvert_exporter": "python",
   "pygments_lexer": "ipython3",
   "version": "3.12.0"
  }
 },
 "nbformat": 4,
 "nbformat_minor": 2
}
