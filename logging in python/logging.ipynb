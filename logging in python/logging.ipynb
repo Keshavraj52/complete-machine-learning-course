{
 "cells": [
  {
   "cell_type": "markdown",
   "metadata": {},
   "source": [
    "## Python Logging\n",
    "Python logging is a module in Python’s standard library that helps you track events that happen when your software runs. By using logging, you can write messages to a log file or the console. These log messages can include information about the program's execution, errors that occur, and other important events, making it easier to debug and understand the flow of your program. Here's a breakdown of key components:\n",
    "\n",
    "# Loggers: \n",
    "The primary entry point for logging. You can create multiple loggers in an application for different parts of the program.\n",
    "\n",
    "# Handlers: \n",
    "They send the log messages to their final destination (file, console, etc.).\n",
    "\n",
    "# Formatters: \n",
    "They specify the layout of the log messages in the final output.\n",
    "\n",
    "# Log Levels: \n",
    "They indicate the severity of the log messages (DEBUG, INFO, WARNING, ERROR, CRITICAL)."
   ]
  },
  {
   "cell_type": "markdown",
   "metadata": {},
   "source": []
  },
  {
   "cell_type": "code",
   "execution_count": 1,
   "metadata": {},
   "outputs": [
    {
     "name": "stderr",
     "output_type": "stream",
     "text": [
      "DEBUG:root:this is debu message\n",
      "INFO:root:this i information message\n",
      "WARNING:root:this is warning message\n",
      "ERROR:root:this is an error message\n",
      "CRITICAL:root:this is a critical message\n"
     ]
    }
   ],
   "source": [
    "import logging \n",
    "## configure the basic logging settings\n",
    "\n",
    "logging.basicConfig(level=logging.DEBUG)\n",
    "\n",
    "## log messages\n",
    "\n",
    "logging.debug(\"this is debu message\")\n",
    "logging.info(\"this i information message\")\n",
    "logging.warning(\"this is warning message\")\n",
    "logging.error(\"this is an error message\")\n",
    "logging.critical(\"this is a critical message\")"
   ]
  },
  {
   "cell_type": "code",
   "execution_count": 1,
   "metadata": {},
   "outputs": [],
   "source": [
    "## configuring logging\n",
    "import logging\n",
    "logging.basicConfig(\n",
    "    filename='app.log',\n",
    "    filemode='w',\n",
    "    level=logging.DEBUG,\n",
    "    format='%(asctime)s-%(name)s-%(levelname)s-%(message)s',\n",
    "    datefmt='%Y-%m-%d %H-%M-%S'\n",
    ")\n",
    "\n",
    "logging.debug(\"this is debu message\")\n",
    "logging.info(\"this i information message\")\n",
    "logging.warning(\"this is warning message\")\n",
    "logging.error(\"this is an error message\")\n",
    "logging.critical(\"this is a critical message\")"
   ]
  },
  {
   "cell_type": "code",
   "execution_count": null,
   "metadata": {},
   "outputs": [],
   "source": []
  }
 ],
 "metadata": {
  "kernelspec": {
   "display_name": "Python 3",
   "language": "python",
   "name": "python3"
  },
  "language_info": {
   "codemirror_mode": {
    "name": "ipython",
    "version": 3
   },
   "file_extension": ".py",
   "mimetype": "text/x-python",
   "name": "python",
   "nbconvert_exporter": "python",
   "pygments_lexer": "ipython3",
   "version": "3.12.0"
  }
 },
 "nbformat": 4,
 "nbformat_minor": 2
}
