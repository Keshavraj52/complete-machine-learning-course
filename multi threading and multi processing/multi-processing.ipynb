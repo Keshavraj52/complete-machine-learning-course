{
 "cells": [
  {
   "cell_type": "code",
   "execution_count": 17,
   "metadata": {},
   "outputs": [
    {
     "name": "stdout",
     "output_type": "stream",
     "text": [
      "Square:0\n",
      "Square:1\n",
      "Square:4\n",
      "Square:9\n",
      "Square:16\n",
      "cube:0\n",
      "cube:1\n",
      "cube:8\n",
      "cube:27\n",
      "cube:64\n",
      "0.09878063201904297\n"
     ]
    }
   ],
   "source": [
    "## processess that run in parallel\n",
    "## CPU-Bound Task that heavy on cpu usage\n",
    "\n",
    "## parallel execution- multiple core of the CPU\n",
    "\n",
    "\n",
    "import multiprocessing\n",
    "import multiprocessing.process\n",
    "import time\n",
    "\n",
    "def square_numbers():\n",
    "    for i in range(5):\n",
    "        time.sleep(1)\n",
    "        print(f\"Square:{i*i}\")\n",
    "\n",
    "def cube_numbers():\n",
    "    for i in range(5):\n",
    "        time.sleep(1)\n",
    "        print(f\"cube:{i*i*i}\")\n",
    "\n",
    "## create 2 processess\n",
    "if __name__==\"__main__\":\n",
    "    p1=multiprocessing.Process(target=square_numbers())\n",
    "    p2=multiprocessing.Process(target=cube_numbers())\n",
    "    t=time.time()\n",
    "    p1.start()\n",
    "    p2.start()\n",
    "    p2.join()\n",
    "    p1.join()\n",
    "    finish_time=time.time()-t\n",
    "\n",
    "    print(finish_time)"
   ]
  },
  {
   "cell_type": "code",
   "execution_count": null,
   "metadata": {},
   "outputs": [],
   "source": []
  },
  {
   "cell_type": "code",
   "execution_count": null,
   "metadata": {},
   "outputs": [
    {
     "name": "stdout",
     "output_type": "stream",
     "text": [
      "number :1\n",
      "number :2\n",
      "number :3\n",
      "number :4\n",
      "number :5\n",
      "number :6\n",
      "number :7\n",
      "number :85\n",
      "number :5\n",
      "number :5\n",
      "number :5\n",
      "number :9\n",
      "1741023433.6938443\n"
     ]
    }
   ],
   "source": []
  },
  {
   "cell_type": "code",
   "execution_count": null,
   "metadata": {},
   "outputs": [],
   "source": []
  }
 ],
 "metadata": {
  "kernelspec": {
   "display_name": "Python 3",
   "language": "python",
   "name": "python3"
  },
  "language_info": {
   "codemirror_mode": {
    "name": "ipython",
    "version": 3
   },
   "file_extension": ".py",
   "mimetype": "text/x-python",
   "name": "python",
   "nbconvert_exporter": "python",
   "pygments_lexer": "ipython3",
   "version": "3.12.0"
  }
 },
 "nbformat": 4,
 "nbformat_minor": 2
}
