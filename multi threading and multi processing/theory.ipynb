{
 "cells": [
  {
   "cell_type": "markdown",
   "metadata": {},
   "source": [
    "1) #### program ---> \n",
    "            a program of sequence of instruction written in programming language\n",
    "\n",
    "2) #### process ---> \n",
    "            a process is simply an instance of program that is being executed\n",
    " \n",
    "    code segment | data segment | heap memory   \n",
    "    |    stack   |    registers    |    \n",
    "\n",
    "\n",
    "\n",
    " it has seperate memory space \n",
    "one process cannot currup another process\n",
    "* I/O requirements\n",
    "* disad--> increase execution time to switching other browser\n",
    "    "
   ]
  },
  {
   "cell_type": "markdown",
   "metadata": {},
   "source": [
    "3) #### thread -->\n",
    " a tread is a unit of execution within a process\n",
    "single treaded process \n",
    "\n",
    "Multi treaded process\n",
    "own stack and register for each thread\n"
   ]
  },
  {
   "cell_type": "code",
   "execution_count": 9,
   "metadata": {},
   "outputs": [
    {
     "name": "stdout",
     "output_type": "stream",
     "text": [
      "number:0\n",
      "letter: a\n",
      "number:1\n",
      "letter: b\n",
      "number:2\n",
      "letter: c\n",
      "number:3\n",
      "letter: d\n",
      "number:4\n",
      "letter: e\n",
      "letter: s\n",
      "12.01090693473816\n"
     ]
    }
   ],
   "source": [
    "## multi threading\n",
    "## when to use multi threading\n",
    "## io bound task        task the waiting for I/O operation\n",
    "\n",
    "# concurrent execution\n",
    "\n",
    "import threading\n",
    "import time\n",
    "\n",
    "\n",
    "def print_number():\n",
    "    for i in range(5):\n",
    "        time.sleep(2)\n",
    "        print(f\"number:{i}\")\n",
    "\n",
    "\n",
    "def print_letter():\n",
    "    for letter in \"abcdes\":\n",
    "        time.sleep(2)\n",
    "        print(f\"letter: {letter}\")\n",
    "# print_number()\n",
    "# print_letter()\n",
    "\n",
    "## creating the multiple thread\n",
    "t1=threading.Thread(target=print_number)\n",
    "t2=threading.Thread(target=print_letter)\n",
    "t=time.time()\n",
    "\n",
    "t1.start()\n",
    "t2.start()\n",
    "\n",
    "t1.join()\n",
    "t2.join()\n",
    "\n",
    "\n",
    "finished_time=time.time()-t\n",
    "\n",
    "print(finished_time)\n"
   ]
  },
  {
   "cell_type": "markdown",
   "metadata": {},
   "source": []
  }
 ],
 "metadata": {
  "kernelspec": {
   "display_name": "Python 3",
   "language": "python",
   "name": "python3"
  },
  "language_info": {
   "codemirror_mode": {
    "name": "ipython",
    "version": 3
   },
   "file_extension": ".py",
   "mimetype": "text/x-python",
   "name": "python",
   "nbconvert_exporter": "python",
   "pygments_lexer": "ipython3",
   "version": "3.12.0"
  }
 },
 "nbformat": 4,
 "nbformat_minor": 2
}
