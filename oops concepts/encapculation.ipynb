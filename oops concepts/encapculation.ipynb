{
 "cells": [
  {
   "cell_type": "code",
   "execution_count": 5,
   "metadata": {},
   "outputs": [
    {
     "data": {
      "text/plain": [
       "'keshav'"
      ]
     },
     "execution_count": 5,
     "metadata": {},
     "output_type": "execute_result"
    }
   ],
   "source": [
    "## encapsulation\n",
    "\n",
    "## public ,protecteed, private\n",
    "\n",
    "class person:\n",
    "    def __init__(self,name,age):\n",
    "        self.name=name\n",
    "        self.age=age## public\n",
    "\n",
    "def get_name(person):\n",
    "    return person.name\n",
    "\n",
    "\n",
    "\n",
    "persons=person(\"keshav\",21)\n",
    "get_name(persons)"
   ]
  },
  {
   "cell_type": "code",
   "execution_count": 7,
   "metadata": {},
   "outputs": [],
   "source": [
    "## encapsulation\n",
    "\n",
    "## public ,protecteed, private\n",
    "\n",
    "class person:\n",
    "    def __init__(self,name,age,gender):\n",
    "        self.__name=name\n",
    "        self.__age=age## private\n",
    "        self.gender=gender\n",
    "\n",
    "def get_name(person):\n",
    "    return "
   ]
  },
  {
   "cell_type": "code",
   "execution_count": 8,
   "metadata": {},
   "outputs": [
    {
     "data": {
      "text/plain": [
       "['__class__',\n",
       " '__delattr__',\n",
       " '__dict__',\n",
       " '__dir__',\n",
       " '__doc__',\n",
       " '__eq__',\n",
       " '__format__',\n",
       " '__ge__',\n",
       " '__getattribute__',\n",
       " '__getstate__',\n",
       " '__gt__',\n",
       " '__hash__',\n",
       " '__init__',\n",
       " '__init_subclass__',\n",
       " '__le__',\n",
       " '__lt__',\n",
       " '__module__',\n",
       " '__ne__',\n",
       " '__new__',\n",
       " '__reduce__',\n",
       " '__reduce_ex__',\n",
       " '__repr__',\n",
       " '__setattr__',\n",
       " '__sizeof__',\n",
       " '__str__',\n",
       " '__subclasshook__',\n",
       " '__weakref__',\n",
       " '_person__age',\n",
       " '_person__name',\n",
       " 'gender']"
      ]
     },
     "execution_count": 8,
     "metadata": {},
     "output_type": "execute_result"
    }
   ],
   "source": [
    "personss=person(\"keshavraj\",21,\"male\")\n",
    "dir(personss)"
   ]
  },
  {
   "cell_type": "code",
   "execution_count": 15,
   "metadata": {},
   "outputs": [
    {
     "name": "stdout",
     "output_type": "stream",
     "text": [
      "kesh\n"
     ]
    }
   ],
   "source": [
    "\n",
    "class person:\n",
    "    def __init__(self,name,age,gender):\n",
    "        self._name=name\n",
    "        self._age=age## protected we can't access it to outside the class but we can access it to derived class\n",
    "        self.gender=gender\n",
    "\n",
    "class employee(person):\n",
    "    def __init__(self, name, age, gender):\n",
    "        super().__init__(name, age, gender)\n",
    "\n",
    "employees=employee(\"kesh\",21,\"male\")\n",
    "print(employees._name)"
   ]
  },
  {
   "cell_type": "code",
   "execution_count": 21,
   "metadata": {},
   "outputs": [
    {
     "name": "stdout",
     "output_type": "stream",
     "text": [
      "('keshavraj pore', 21)\n",
      "('keshavraj pore', 45)\n",
      "age is not in negative\n",
      "('keshavraj pore', 45)\n"
     ]
    }
   ],
   "source": [
    "class person:\n",
    "    def __init__(self,name,age,gender):\n",
    "        self.__name=name\n",
    "        self.__age=age## private\n",
    "        self.gender=gender\n",
    "    ## getter method\n",
    "    def get_data(self):\n",
    "        return self.__name,self.__age\n",
    "    \n",
    "    ## setter method\n",
    "    def set_age(self,age):\n",
    "        if age>0:\n",
    "            self.__age=age\n",
    "        else:\n",
    "            print(\"age is not in negative\")\n",
    "    \n",
    "persponses=person(\"keshavraj pore\",21,\"male\")\n",
    "print(persponses.get_data())\n",
    "persponses.set_age(45)\n",
    "print(persponses.get_data())\n",
    "persponses.set_age(-21)\n",
    "print(persponses.get_data())\n"
   ]
  },
  {
   "cell_type": "code",
   "execution_count": null,
   "metadata": {},
   "outputs": [],
   "source": []
  }
 ],
 "metadata": {
  "kernelspec": {
   "display_name": "Python 3",
   "language": "python",
   "name": "python3"
  },
  "language_info": {
   "codemirror_mode": {
    "name": "ipython",
    "version": 3
   },
   "file_extension": ".py",
   "mimetype": "text/x-python",
   "name": "python",
   "nbconvert_exporter": "python",
   "pygments_lexer": "ipython3",
   "version": "3.12.0"
  }
 },
 "nbformat": 4,
 "nbformat_minor": 2
}
