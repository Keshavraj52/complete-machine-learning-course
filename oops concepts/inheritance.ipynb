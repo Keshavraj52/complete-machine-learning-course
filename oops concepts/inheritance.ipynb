{
 "cells": [
  {
   "cell_type": "code",
   "execution_count": 1,
   "metadata": {},
   "outputs": [],
   "source": [
    "## inheritance\n",
    "\n",
    "class car:\n",
    "    def __init__(self,windows,doors,enginetype):\n",
    "        self.windows=windows\n",
    "        self.doors=doors\n",
    "        self.enginetype=enginetype\n",
    "\n",
    "\n",
    "    def drive(self):\n",
    "        print(f\"the person will drive the {self.enginetype} car\")\n",
    "\n",
    "\n"
   ]
  },
  {
   "cell_type": "code",
   "execution_count": 3,
   "metadata": {},
   "outputs": [
    {
     "name": "stdout",
     "output_type": "stream",
     "text": [
      "the person will drive the petrol car\n"
     ]
    }
   ],
   "source": [
    "car1=car(4,5,\"petrol\")\n",
    "car1.drive()"
   ]
  },
  {
   "cell_type": "code",
   "execution_count": 7,
   "metadata": {},
   "outputs": [],
   "source": [
    "class tesla(car):\n",
    "    def __init__(self,windows,doors,enginetype,is_selfdriving):\n",
    "        super().__init__(windows,doors,enginetype)\n",
    "        self.is_selfdriving=is_selfdriving\n",
    "    def selfdriving(self):\n",
    "        print(f\"tesla suuport self driving: {self.is_selfdriving}\")\n",
    "\n",
    "        "
   ]
  },
  {
   "cell_type": "code",
   "execution_count": 9,
   "metadata": {},
   "outputs": [
    {
     "name": "stdout",
     "output_type": "stream",
     "text": [
      "tesla suuport self driving: True\n"
     ]
    }
   ],
   "source": [
    "tesla1=tesla(4,5,\"electric\",True)\n",
    "tesla1.selfdriving()"
   ]
  },
  {
   "cell_type": "code",
   "execution_count": 10,
   "metadata": {},
   "outputs": [
    {
     "name": "stdout",
     "output_type": "stream",
     "text": [
      "the person will drive the electric car\n"
     ]
    }
   ],
   "source": [
    "tesla1.drive()"
   ]
  },
  {
   "cell_type": "code",
   "execution_count": 13,
   "metadata": {},
   "outputs": [],
   "source": [
    "class animal:\n",
    "    def __init__(self,name) -> None:\n",
    "        self.name=name\n",
    "\n",
    "    def speack(self):\n",
    "        print(f\"name of the dog is {self.name}\")\n",
    "\n",
    "class pet:\n",
    "    def __init__(self,owner) -> None:\n",
    "        self.owner=owner\n",
    "    def own(self):\n",
    "        print(f\"the owner of the dog is {self.owner}\")\n",
    " \n",
    "class dog(animal,pet):\n",
    "    def __init__(self, name,owner) -> None:\n",
    "        animal.__init__(self,name)\n",
    "        pet.__init__(self,owner)\n",
    "    \n"
   ]
  },
  {
   "cell_type": "code",
   "execution_count": 16,
   "metadata": {},
   "outputs": [
    {
     "name": "stdout",
     "output_type": "stream",
     "text": [
      "name of the dog is germanshaphered\n",
      "the owner of the dog is rahulgandhi\n"
     ]
    }
   ],
   "source": [
    "dog1=dog(\"germanshaphered\",\"rahulgandhi\")\n",
    "dog1.speack()\n",
    "dog1.own()"
   ]
  },
  {
   "cell_type": "code",
   "execution_count": null,
   "metadata": {},
   "outputs": [],
   "source": []
  }
 ],
 "metadata": {
  "kernelspec": {
   "display_name": "Python 3",
   "language": "python",
   "name": "python3"
  },
  "language_info": {
   "codemirror_mode": {
    "name": "ipython",
    "version": 3
   },
   "file_extension": ".py",
   "mimetype": "text/x-python",
   "name": "python",
   "nbconvert_exporter": "python",
   "pygments_lexer": "ipython3",
   "version": "3.12.0"
  }
 },
 "nbformat": 4,
 "nbformat_minor": 2
}
