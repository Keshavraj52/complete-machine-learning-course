{
 "cells": [
  {
   "cell_type": "code",
   "execution_count": 20,
   "metadata": {},
   "outputs": [
    {
     "name": "stdout",
     "output_type": "stream",
     "text": [
      "vector is (6,8)\n",
      "vector is (8,15)\n",
      "vector is (-2,-2)\n"
     ]
    }
   ],
   "source": [
    "### mathematical operation for vector\n",
    "\n",
    "\n",
    "class vector:\n",
    "    def __init__(self,x,y):\n",
    "        self.x=x\n",
    "        self.y=y\n",
    "\n",
    "    def __add__(self,other):\n",
    "        return vector(self.x+other.x,self.y+other.y)\n",
    "    \n",
    "    def __sub__(self,other):\n",
    "        return vector(self.x-other.x,self.y-other.y)\n",
    "    def __mul__(self,other):\n",
    "        return vector(self.x*other.x,self.y*other.y)\n",
    "    def __repr__(self):\n",
    "        return f\"vector is ({self.x},{self.y})\"\n",
    "\n",
    "\n",
    "\n",
    "v3=vector(2,3)\n",
    "v2=vector(4,5)\n",
    "\n",
    "print(v3+v2)\n",
    "print(v3*v2)\n",
    "print(v3-v2)\n"
   ]
  },
  {
   "cell_type": "code",
   "execution_count": 25,
   "metadata": {},
   "outputs": [
    {
     "name": "stdout",
     "output_type": "stream",
     "text": [
      "(6, 8)\n"
     ]
    },
    {
     "data": {
      "text/plain": [
       "'(-7, 22)'"
      ]
     },
     "execution_count": 25,
     "metadata": {},
     "output_type": "execute_result"
    }
   ],
   "source": [
    "class complex:\n",
    "    def __init__(self,real,complexno):\n",
    "        self.real=real\n",
    "        self.complexno=complexno\n",
    "\n",
    "    def __add__(self,other):\n",
    "        return self.real+other.real,self.complexno+other.complexno\n",
    "    def __sub__(self,other):\n",
    "        return self.real-other.real,self.complexno-other.complexno\n",
    "    \n",
    "    ## multiplcation a**2+b**2-2ab\n",
    "    def __mul__(self,other):\n",
    "        return (self.real*other.real)-(self.complexno*other.complexno),(self.real*other.complexno)+(self.complexno*other.real)\n",
    "    def __repr__(self):\n",
    "        return f\"the complex number after performing a operation is ({self.real},{self.complexno}i)\"\n",
    "    \n",
    "\n",
    "c1=complex(4,5)\n",
    "c2=complex(2,3)\n",
    "\n",
    "print(c1+c2)\n",
    "repr(c1*c2)"
   ]
  },
  {
   "cell_type": "code",
   "execution_count": null,
   "metadata": {},
   "outputs": [],
   "source": []
  }
 ],
 "metadata": {
  "kernelspec": {
   "display_name": "Python 3",
   "language": "python",
   "name": "python3"
  },
  "language_info": {
   "codemirror_mode": {
    "name": "ipython",
    "version": 3
   },
   "file_extension": ".py",
   "mimetype": "text/x-python",
   "name": "python",
   "nbconvert_exporter": "python",
   "pygments_lexer": "ipython3",
   "version": "3.12.0"
  }
 },
 "nbformat": 4,
 "nbformat_minor": 2
}
