{
 "cells": [
  {
   "cell_type": "markdown",
   "metadata": {},
   "source": []
  },
  {
   "cell_type": "code",
   "execution_count": 15,
   "metadata": {},
   "outputs": [
    {
     "name": "stdout",
     "output_type": "stream",
     "text": [
      "woof! miou!\n",
      "miou!\n",
      "None\n"
     ]
    }
   ],
   "source": [
    "## method overriding\n",
    "## base class\n",
    "\n",
    "class animal:\n",
    "    def speack(self):\n",
    "        return \"sound of animal\"\n",
    "    \n",
    "### derived class\n",
    "\n",
    "class Dog(animal):\n",
    "    def speack(self):\n",
    "        return \"woof!\"\n",
    "    \n",
    "class Cat(animal):\n",
    "    def speack(self):\n",
    "        return \"miou!\"\n",
    "    \n",
    "### function that demonstrates polymorphism\n",
    "def animal_speack(animal):\n",
    "    print(animal.speack())\n",
    "cat=Cat()\n",
    "dog=Dog()\n",
    "print(dog.speack(),cat.speack())\n",
    "\n",
    "print(animal_speack(cat))"
   ]
  },
  {
   "cell_type": "code",
   "execution_count": 26,
   "metadata": {},
   "outputs": [
    {
     "name": "stdout",
     "output_type": "stream",
     "text": [
      "706.8583470577034\n",
      "the area is area of the rectangle is 241902.\n",
      "the area is 64.46830868505079\n"
     ]
    }
   ],
   "source": [
    "## poly,orphism using with function and method\n",
    "import math\n",
    "from math import pi\n",
    "class Shape:\n",
    "    def area(self):\n",
    "        return \"the area of the figure\"\n",
    "    \n",
    "class Rectangle(Shape):\n",
    "    def __init__(self,width,height) -> None:\n",
    "        self.width=width\n",
    "        self.height=height\n",
    "    def area(self):\n",
    "        return f\"area of the rectangle is {self.width*self.height}.\"\n",
    "    \n",
    "class Circle(Shape):\n",
    "    def __init__(self,radius) -> None:\n",
    "        self.radius=radius\n",
    "    def area(self):\n",
    "        return pi*self.radius**2\n",
    "    \n",
    "\n",
    "area_circle=Circle(15)\n",
    "print(area_circle.area()\n",
    ")\n",
    "\n",
    "def print_area(shape):\n",
    "    print(f\"the area is {shape.area()}\")\n",
    "\n",
    "reactangle=Rectangle(453,534)\n",
    "circle=Circle(4.53)\n",
    "print_area(reactangle)\n",
    "print_area(circle)"
   ]
  },
  {
   "cell_type": "code",
   "execution_count": 29,
   "metadata": {},
   "outputs": [
    {
     "name": "stdout",
     "output_type": "stream",
     "text": [
      "car engineer started\n",
      "Moter engineer started\n"
     ]
    }
   ],
   "source": [
    "## polymorphism with abstract base classes\n",
    "from abc import ABC,abstractmethod\n",
    "\n",
    "class Vehicle(ABC):\n",
    "    @abstractmethod\n",
    "    def start_engine(self):\n",
    "        pass\n",
    "class car(Vehicle):\n",
    "    def start_engine(self):\n",
    "        return \"car engineer started\"\n",
    "    \n",
    "## derived class 2\n",
    "class Motercycle(Vehicle):\n",
    "    def start_engine(self):\n",
    "        return \"Moter engineer started\"\n",
    "\n",
    "def start_vehicle(vehicle):   \n",
    "    print(vehicle.start_engine())\n",
    "Car=car()\n",
    "motercycle=Motercycle()\n",
    "start_vehicle(Car)\n",
    "start_vehicle(motercycle)"
   ]
  },
  {
   "cell_type": "code",
   "execution_count": null,
   "metadata": {},
   "outputs": [],
   "source": []
  }
 ],
 "metadata": {
  "kernelspec": {
   "display_name": "Python 3",
   "language": "python",
   "name": "python3"
  },
  "language_info": {
   "codemirror_mode": {
    "name": "ipython",
    "version": 3
   },
   "file_extension": ".py",
   "mimetype": "text/x-python",
   "name": "python",
   "nbconvert_exporter": "python",
   "pygments_lexer": "ipython3",
   "version": "3.12.0"
  }
 },
 "nbformat": 4,
 "nbformat_minor": 2
}
