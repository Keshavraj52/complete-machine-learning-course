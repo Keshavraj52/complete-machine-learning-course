{
 "cells": [
  {
   "cell_type": "code",
   "execution_count": 3,
   "metadata": {},
   "outputs": [],
   "source": [
    "import pandas as pd\n"
   ]
  },
  {
   "cell_type": "code",
   "execution_count": 2,
   "metadata": {},
   "outputs": [
    {
     "name": "stdout",
     "output_type": "stream",
     "text": [
      "Collecting pandas\n",
      "  Downloading pandas-2.2.3-cp312-cp312-win_amd64.whl.metadata (19 kB)\n",
      "Requirement already satisfied: numpy>=1.26.0 in c:\\users\\keshavraj\\desktop\\complete machine learning course\\venv\\lib\\site-packages (from pandas) (2.0.1)\n",
      "Requirement already satisfied: python-dateutil>=2.8.2 in c:\\users\\keshavraj\\desktop\\complete machine learning course\\venv\\lib\\site-packages (from pandas) (2.9.0.post0)\n",
      "Collecting pytz>=2020.1 (from pandas)\n",
      "  Downloading pytz-2024.2-py2.py3-none-any.whl.metadata (22 kB)\n",
      "Collecting tzdata>=2022.7 (from pandas)\n",
      "  Downloading tzdata-2024.2-py2.py3-none-any.whl.metadata (1.4 kB)\n",
      "Requirement already satisfied: six>=1.5 in c:\\users\\keshavraj\\desktop\\complete machine learning course\\venv\\lib\\site-packages (from python-dateutil>=2.8.2->pandas) (1.16.0)\n",
      "Downloading pandas-2.2.3-cp312-cp312-win_amd64.whl (11.5 MB)\n",
      "   ---------------------------------------- 0.0/11.5 MB ? eta -:--:--\n",
      "   ---------------------------------------- 0.1/11.5 MB 2.6 MB/s eta 0:00:05\n",
      "    --------------------------------------- 0.2/11.5 MB 2.1 MB/s eta 0:00:06\n",
      "   - -------------------------------------- 0.3/11.5 MB 2.6 MB/s eta 0:00:05\n",
      "   -- ------------------------------------- 0.6/11.5 MB 3.3 MB/s eta 0:00:04\n",
      "   -- ------------------------------------- 0.7/11.5 MB 3.2 MB/s eta 0:00:04\n",
      "   --- ------------------------------------ 1.0/11.5 MB 3.6 MB/s eta 0:00:03\n",
      "   ---- ----------------------------------- 1.3/11.5 MB 4.0 MB/s eta 0:00:03\n",
      "   ----- ---------------------------------- 1.6/11.5 MB 4.8 MB/s eta 0:00:03\n",
      "   ------ --------------------------------- 1.9/11.5 MB 5.0 MB/s eta 0:00:02\n",
      "   ------ --------------------------------- 2.0/11.5 MB 4.5 MB/s eta 0:00:03\n",
      "   ------- -------------------------------- 2.2/11.5 MB 4.6 MB/s eta 0:00:03\n",
      "   ------- -------------------------------- 2.2/11.5 MB 4.6 MB/s eta 0:00:03\n",
      "   -------- ------------------------------- 2.4/11.5 MB 4.4 MB/s eta 0:00:03\n",
      "   --------- ------------------------------ 2.7/11.5 MB 4.3 MB/s eta 0:00:03\n",
      "   ---------- ----------------------------- 2.9/11.5 MB 4.4 MB/s eta 0:00:02\n",
      "   ---------- ----------------------------- 3.0/11.5 MB 4.3 MB/s eta 0:00:02\n",
      "   ----------- ---------------------------- 3.3/11.5 MB 4.5 MB/s eta 0:00:02\n",
      "   ----------- ---------------------------- 3.4/11.5 MB 4.4 MB/s eta 0:00:02\n",
      "   ------------ --------------------------- 3.5/11.5 MB 4.3 MB/s eta 0:00:02\n",
      "   ------------- -------------------------- 3.9/11.5 MB 4.5 MB/s eta 0:00:02\n",
      "   --------------- ------------------------ 4.3/11.5 MB 4.8 MB/s eta 0:00:02\n",
      "   ---------------- ----------------------- 4.7/11.5 MB 4.9 MB/s eta 0:00:02\n",
      "   ----------------- ---------------------- 5.1/11.5 MB 5.0 MB/s eta 0:00:02\n",
      "   ------------------ --------------------- 5.3/11.5 MB 5.1 MB/s eta 0:00:02\n",
      "   ------------------- -------------------- 5.7/11.5 MB 5.2 MB/s eta 0:00:02\n",
      "   --------------------- ------------------ 6.1/11.5 MB 5.4 MB/s eta 0:00:02\n",
      "   ---------------------- ----------------- 6.5/11.5 MB 5.6 MB/s eta 0:00:01\n",
      "   ----------------------- ---------------- 6.8/11.5 MB 5.6 MB/s eta 0:00:01\n",
      "   ----------------------- ---------------- 6.8/11.5 MB 5.5 MB/s eta 0:00:01\n",
      "   ------------------------ --------------- 7.1/11.5 MB 5.5 MB/s eta 0:00:01\n",
      "   ------------------------- -------------- 7.2/11.5 MB 5.4 MB/s eta 0:00:01\n",
      "   -------------------------- ------------- 7.5/11.5 MB 5.3 MB/s eta 0:00:01\n",
      "   -------------------------- ------------- 7.7/11.5 MB 5.3 MB/s eta 0:00:01\n",
      "   --------------------------- ------------ 7.8/11.5 MB 5.2 MB/s eta 0:00:01\n",
      "   ---------------------------- ----------- 8.1/11.5 MB 5.3 MB/s eta 0:00:01\n",
      "   ----------------------------- ---------- 8.5/11.5 MB 5.4 MB/s eta 0:00:01\n",
      "   ------------------------------- -------- 9.0/11.5 MB 5.5 MB/s eta 0:00:01\n",
      "   ------------------------------- -------- 9.1/11.5 MB 5.5 MB/s eta 0:00:01\n",
      "   -------------------------------- ------- 9.2/11.5 MB 5.4 MB/s eta 0:00:01\n",
      "   -------------------------------- ------- 9.5/11.5 MB 5.4 MB/s eta 0:00:01\n",
      "   ---------------------------------- ----- 9.8/11.5 MB 5.5 MB/s eta 0:00:01\n",
      "   ----------------------------------- ---- 10.3/11.5 MB 5.7 MB/s eta 0:00:01\n",
      "   ------------------------------------- -- 10.7/11.5 MB 5.9 MB/s eta 0:00:01\n",
      "   -------------------------------------- - 11.0/11.5 MB 6.1 MB/s eta 0:00:01\n",
      "   -------------------------------------- - 11.1/11.5 MB 5.9 MB/s eta 0:00:01\n",
      "   -------------------------------------- - 11.2/11.5 MB 5.8 MB/s eta 0:00:01\n",
      "   ---------------------------------------  11.5/11.5 MB 5.9 MB/s eta 0:00:01\n",
      "   ---------------------------------------- 11.5/11.5 MB 5.7 MB/s eta 0:00:00\n",
      "Downloading pytz-2024.2-py2.py3-none-any.whl (508 kB)\n",
      "   ---------------------------------------- 0.0/508.0 kB ? eta -:--:--\n",
      "   --------- ------------------------------ 122.9/508.0 kB 3.6 MB/s eta 0:00:01\n",
      "   ----------------- ---------------------- 225.3/508.0 kB 3.5 MB/s eta 0:00:01\n",
      "   ---------------------------------- ----- 440.3/508.0 kB 3.9 MB/s eta 0:00:01\n",
      "   ---------------------------------------- 508.0/508.0 kB 3.6 MB/s eta 0:00:00\n",
      "Downloading tzdata-2024.2-py2.py3-none-any.whl (346 kB)\n",
      "   ---------------------------------------- 0.0/346.6 kB ? eta -:--:--\n",
      "   ------------------------- -------------- 225.3/346.6 kB 6.7 MB/s eta 0:00:01\n",
      "   ------------------------------------ --- 317.4/346.6 kB 3.9 MB/s eta 0:00:01\n",
      "   ---------------------------------------- 346.6/346.6 kB 3.6 MB/s eta 0:00:00\n",
      "Installing collected packages: pytz, tzdata, pandas\n",
      "Successfully installed pandas-2.2.3 pytz-2024.2 tzdata-2024.2\n",
      "Note: you may need to restart the kernel to use updated packages.\n"
     ]
    }
   ],
   "source": [
    "%pip install pandas"
   ]
  },
  {
   "cell_type": "code",
   "execution_count": 4,
   "metadata": {},
   "outputs": [
    {
     "name": "stdout",
     "output_type": "stream",
     "text": [
      "series \n",
      " 0    1\n",
      "1    2\n",
      "2    3\n",
      "3    4\n",
      "4    5\n",
      "dtype: int64\n"
     ]
    }
   ],
   "source": [
    "data =[1,2,3,4,5]\n",
    "series=pd.Series(data)\n",
    "print(\"series \\n\",series)"
   ]
  },
  {
   "cell_type": "code",
   "execution_count": 5,
   "metadata": {},
   "outputs": [
    {
     "name": "stdout",
     "output_type": "stream",
     "text": [
      "a    1\n",
      "b    2\n",
      "c    3\n",
      "dtype: int64\n"
     ]
    }
   ],
   "source": [
    "## create a series from dictionary\n",
    "\n",
    "data={'a':1,'b':2,'c':3}\n",
    "\n",
    "series_dic=pd.Series(data)\n",
    "\n",
    "print(series_dic)\n",
    "\n"
   ]
  },
  {
   "cell_type": "code",
   "execution_count": 6,
   "metadata": {},
   "outputs": [
    {
     "data": {
      "text/plain": [
       "a    10\n",
       "b    20\n",
       "c    30\n",
       "dtype: int64"
      ]
     },
     "execution_count": 6,
     "metadata": {},
     "output_type": "execute_result"
    }
   ],
   "source": [
    "data=[10,20,30]\n",
    "index=['a','b','c']\n",
    "pd.Series(data,index=index)"
   ]
  },
  {
   "cell_type": "code",
   "execution_count": 8,
   "metadata": {},
   "outputs": [
    {
     "name": "stdout",
     "output_type": "stream",
     "text": [
      "    name  age     city\n",
      "0  krish   25     pune\n",
      "1   jhon   30   mumbai\n",
      "2   jack   45  mhaswad\n",
      "<class 'pandas.core.frame.DataFrame'>\n"
     ]
    }
   ],
   "source": [
    "## data frame\n",
    "## create a dataframe from a dictionary\n",
    "data={\n",
    "    'name':['krish','jhon','jack'],\n",
    "    'age':[25,30,45],\n",
    "    'city':['pune','mumbai','mhaswad']\n",
    "}\n",
    "\n",
    "df=pd.DataFrame(data)\n",
    "\n",
    "print(df)\n",
    "print(type(df))"
   ]
  },
  {
   "cell_type": "code",
   "execution_count": null,
   "metadata": {},
   "outputs": [],
   "source": [
    "## create a data frame from a list of list\n",
    "\n",
    "data=[\n",
    "    {'name':'krish','age':24,'city':'pune'},\n",
    "    {'name':'keshav','age':21,'city':'mhaswad'},\n",
    "    {'name':'krishna','age':25,'city':'bhagwanlok'}\n",
    "]"
   ]
  }
 ],
 "metadata": {
  "kernelspec": {
   "display_name": "venv",
   "language": "python",
   "name": "python3"
  },
  "language_info": {
   "codemirror_mode": {
    "name": "ipython",
    "version": 3
   },
   "file_extension": ".py",
   "mimetype": "text/x-python",
   "name": "python",
   "nbconvert_exporter": "python",
   "pygments_lexer": "ipython3",
   "version": "3.12.0"
  }
 },
 "nbformat": 4,
 "nbformat_minor": 2
}
