{
 "cells": [
  {
   "cell_type": "code",
   "execution_count": 2,
   "metadata": {},
   "outputs": [
    {
     "name": "stdout",
     "output_type": "stream",
     "text": [
      "['buy groceries', 'clean home', 'paying a bill', 'schedule a meeting', 'call home']\n",
      "['buy groceries', 'clean home', 'paying a bill', 'schedule a meeting']\n",
      "to do list remaing\n",
      "-buy groceries\n",
      "-clean home\n",
      "-paying a bill\n",
      "-schedule a meeting\n"
     ]
    }
   ],
   "source": [
    "# manage a to do list\n",
    "\n",
    "to_do_list=[\"buy groceries\",\"clean home\",\"paying a bill\"]\n",
    "## adding a new task in the list\n",
    "\n",
    "to_do_list.append(\"schedule a meeting\")\n",
    "to_do_list.append(\"call home\")\n",
    "\n",
    "\n",
    "print(to_do_list)\n",
    "## remove the task\n",
    "\n",
    "to_do_list.remove(\"call home\")\n",
    "print(to_do_list)\n",
    "## ckecking if the task in the list\n",
    "\n",
    "\n",
    "if \"paying a bills\" in to_do_list:\n",
    "    print(\"don't forget to pay a bills\")\n",
    "\n",
    "print(\"to do list remaing\")\n",
    "\n",
    "for task in to_do_list:\n",
    "    print(f\"-{task}\")\n",
    "\n",
    "    "
   ]
  },
  {
   "cell_type": "code",
   "execution_count": 18,
   "metadata": {},
   "outputs": [
    {
     "name": "stdout",
     "output_type": "stream",
     "text": [
      "{'roll.no.:1': {'name': 'pratham jadhav', 'grade': 8.25}, 'roll.no.:2': {'name': 'nikhil ghule', 'grade': 7.35}, 'roll.no.:3': {'name': 'vipul zende', 'grade': 8.65}, 'roll.no.:4': {'name': 'pranav takwale', 'grade': 7.75}, 'roll.no.:5': {'name': 'keshavraj pore', 'grade': 8.85}}\n",
      "{'A': ['vipul zende', 'keshavraj pore'], 'B': ['pratham jadhav', 'pranav takwale'], 'C': ['nikhil ghule']}\n"
     ]
    }
   ],
   "source": [
    "# organizing student grade\n",
    "# above 8.5 is A grade 7.5-8.5 B grade below 7.5 C grade\n",
    "grades={\n",
    "    \"roll.no.:1\":{\"name\":\"pratham jadhav\",\"grade\":8.25},\n",
    "    \"roll.no.:2\":{\"name\":\"nikhil ghule\",\"grade\":7.35},\n",
    "    \"roll.no.:3\":{\"name\":\"vipul zende\",\"grade\":8.65},\n",
    "    \"roll.no.:4\":{\"name\":\"pranav takwale\",\"grade\":7.75},\n",
    "    \"roll.no.:5\":{\"name\":\"keshavraj pore\",\"grade\":8.85}\n",
    "}\n",
    "print(grades)\n",
    "\n",
    "graded_students={\"A\":[],\"B\":[],\"C\":[]}\n",
    "\n",
    "for rollno,student in grades.items():\n",
    "    name=student[\"name\"]\n",
    "    grade=student[\"grade\"]\n",
    "    if grade>=8.5:\n",
    "        graded_students[\"A\"].append(name)\n",
    "    elif grade>=7.5 and grade<8.5:\n",
    "        graded_students[\"B\"].append(name)\n",
    "    else:\n",
    "        graded_students[\"C\"].append(name)\n",
    "\n",
    "\n",
    "print(graded_students)\n",
    "        \n",
    "\n"
   ]
  },
  {
   "cell_type": "markdown",
   "metadata": {},
   "source": []
  },
  {
   "cell_type": "code",
   "execution_count": 22,
   "metadata": {},
   "outputs": [
    {
     "name": "stdout",
     "output_type": "stream",
     "text": [
      "{'name': 'nikhil ghule', 'std': '3 rd year', 'rollno': '22249'}\n",
      "{'name': 'nikhil ghule', 'std': '3 rd year', 'rollno': '22249'}\n"
     ]
    }
   ],
   "source": [
    "# collecting feed back\n",
    "\n",
    "feed=dict()\n",
    "\n",
    "feed={\"name\":input(\"enter your name\"),\"std\":input(\"enter your std\"),\"rollno\":input(\"enter your roll no\")}\n",
    "print(feed)\n"
   ]
  },
  {
   "cell_type": "code",
   "execution_count": null,
   "metadata": {},
   "outputs": [],
   "source": []
  }
 ],
 "metadata": {
  "kernelspec": {
   "display_name": "Python 3",
   "language": "python",
   "name": "python3"
  },
  "language_info": {
   "codemirror_mode": {
    "name": "ipython",
    "version": 3
   },
   "file_extension": ".py",
   "mimetype": "text/x-python",
   "name": "python",
   "nbconvert_exporter": "python",
   "pygments_lexer": "ipython3",
   "version": "3.12.0"
  }
 },
 "nbformat": 4,
 "nbformat_minor": 2
}
