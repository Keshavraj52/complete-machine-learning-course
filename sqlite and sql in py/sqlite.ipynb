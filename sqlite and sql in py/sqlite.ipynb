{
 "cells": [
  {
   "cell_type": "markdown",
   "metadata": {},
   "source": [
    "## sql and  sqlite"
   ]
  },
  {
   "cell_type": "code",
   "execution_count": 1,
   "metadata": {},
   "outputs": [],
   "source": [
    "import sqlite3"
   ]
  },
  {
   "cell_type": "code",
   "execution_count": 2,
   "metadata": {},
   "outputs": [],
   "source": [
    "connection=sqlite3.connect('example.db')\n"
   ]
  },
  {
   "cell_type": "code",
   "execution_count": 3,
   "metadata": {},
   "outputs": [],
   "source": [
    "cursor=connection.cursor()"
   ]
  },
  {
   "cell_type": "code",
   "execution_count": 4,
   "metadata": {},
   "outputs": [],
   "source": [
    "### create table\n",
    "\n",
    "cursor.execute('''\n",
    "create table if not exists employees(\n",
    "               id intger primary key,\n",
    "               name text not null,\n",
    "               age integer,\n",
    "               department text\n",
    "               )\n",
    "''')\n",
    "\n",
    "## commit the changes\n",
    "connection.commit()"
   ]
  },
  {
   "cell_type": "code",
   "execution_count": 5,
   "metadata": {},
   "outputs": [
    {
     "data": {
      "text/plain": [
       "<sqlite3.Cursor at 0x24159e32ec0>"
      ]
     },
     "execution_count": 5,
     "metadata": {},
     "output_type": "execute_result"
    }
   ],
   "source": [
    "cursor.execute('''\n",
    "select * from employees\n",
    "''')"
   ]
  },
  {
   "cell_type": "code",
   "execution_count": null,
   "metadata": {},
   "outputs": [],
   "source": [
    "cursor.execute('''\n",
    "insert into employees(name,age,department) values('krish',21,'data analyst')\n",
    "''')\n",
    "\n",
    "cursor.execute('''\n",
    "insert into employees(name,age,department) values('keshav',23,'data analyst')\n",
    "''')\n",
    "\n",
    "cursor.execute('''\n",
    "insert into employees (name,age,department) values('om',24,'data analyst')\n",
    "''')\n",
    "\n",
    "cursor.execute('''\n",
    "insert into employees (name,age,department) values('raj',22,'data analyst')\n",
    "''')\n",
    "\n",
    "connection.commit()"
   ]
  },
  {
   "cell_type": "code",
   "execution_count": 22,
   "metadata": {},
   "outputs": [
    {
     "name": "stdout",
     "output_type": "stream",
     "text": [
      "(None, 'keshav', 22, 'data analyst')\n",
      "(None, 'om', 24, 'data analyst')\n",
      "(None, 'raj', 22, 'data analyst')\n"
     ]
    }
   ],
   "source": [
    "cursor.execute(\n",
    "    '''select * from employees'''\n",
    ")\n",
    "rows=cursor.fetchall()\n",
    "## print the data\n",
    "\n",
    "for row in rows:\n",
    "    print(row) "
   ]
  },
  {
   "cell_type": "code",
   "execution_count": 17,
   "metadata": {},
   "outputs": [],
   "source": [
    "## update the data\n",
    "\n",
    "cursor.execute(\n",
    "    '''update employees\n",
    "    set age = 22\n",
    "    where name =\"keshav\"'''\n",
    ")\n",
    "connection.commit()"
   ]
  },
  {
   "cell_type": "code",
   "execution_count": 21,
   "metadata": {},
   "outputs": [],
   "source": [
    "### how to delete the data from the table\n",
    "\n",
    "cursor.execute(\n",
    "    '''delete from employees \n",
    "    where age=21'''\n",
    ")\n",
    "connection.commit()"
   ]
  },
  {
   "cell_type": "code",
   "execution_count": 33,
   "metadata": {},
   "outputs": [],
   "source": [
    "### working with sales data\n",
    "\n",
    "connection= sqlite3.connect('sales_data.db')\n",
    "cursor=connection.cursor()\n",
    "## table\n",
    "\n",
    "cursor.execute(\n",
    "    '''create table if not exists sale(\n",
    "    id integer primary key autoincrement,\n",
    "    date text not null,\n",
    "    product text not null,\n",
    "    sales integer,\n",
    "    region text\n",
    "    )\n",
    "''')\n",
    "\n",
    "\n",
    "sales_data=[\n",
    "    ('2024-02-03','product1',100,'north'),\n",
    "    ('2024-02-01','product2',500,'east'),\n",
    "    ('2024-02-02','product1',240,'south'),\n",
    "    ('2024-02-05','product2',300,'west'),\n",
    "    ('2024-02-03','product3',100,'north')\n",
    "]\n",
    "cursor.executemany(\n",
    "    '''\n",
    "insert into sale(date,product,sales,region) values(?,?,?,?)''',sales_data\n",
    ")\n",
    "connection.commit()\n"
   ]
  },
  {
   "cell_type": "code",
   "execution_count": 34,
   "metadata": {},
   "outputs": [
    {
     "name": "stdout",
     "output_type": "stream",
     "text": [
      "(1, '2024-02-03', 'product1', 100, 'north')\n",
      "(2, '2024-02-01', 'product2', 500, 'east')\n",
      "(3, '2024-02-02', 'product1', 240, 'south')\n",
      "(4, '2024-02-05', 'product2', 300, 'west')\n",
      "(5, '2024-02-03', 'product3', 100, 'north')\n"
     ]
    }
   ],
   "source": [
    "cursor.execute(\n",
    "    '''select * from sale'''\n",
    ")\n",
    "rows=cursor.fetchall()\n",
    "## print the data\n",
    "\n",
    "for row in rows:\n",
    "    print(row) "
   ]
  },
  {
   "cell_type": "code",
   "execution_count": 35,
   "metadata": {},
   "outputs": [],
   "source": [
    "## close the connection \n",
    "\n",
    "connection.close()"
   ]
  },
  {
   "cell_type": "code",
   "execution_count": null,
   "metadata": {},
   "outputs": [],
   "source": []
  }
 ],
 "metadata": {
  "kernelspec": {
   "display_name": "Python 3",
   "language": "python",
   "name": "python3"
  },
  "language_info": {
   "codemirror_mode": {
    "name": "ipython",
    "version": 3
   },
   "file_extension": ".py",
   "mimetype": "text/x-python",
   "name": "python",
   "nbconvert_exporter": "python",
   "pygments_lexer": "ipython3",
   "version": "3.12.0"
  }
 },
 "nbformat": 4,
 "nbformat_minor": 2
}
